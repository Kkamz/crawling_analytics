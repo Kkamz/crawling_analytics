{
 "cells": [
  {
   "cell_type": "markdown",
   "metadata": {},
   "source": [
    "## melon rank"
   ]
  },
  {
   "cell_type": "code",
   "execution_count": 1,
   "metadata": {},
   "outputs": [],
   "source": [
    "from selenium import webdriver\n",
    "from bs4 import BeautifulSoup"
   ]
  },
  {
   "cell_type": "code",
   "execution_count": 2,
   "metadata": {},
   "outputs": [],
   "source": [
    "driver = webdriver.Chrome('chromedriver.exe')\n",
    "url = 'http://www.melon.com/chart/index.htm'\n",
    "driver.get(url)\n",
    "\n",
    "html = driver.page_source\n",
    "soup = BeautifulSoup(html, 'html.parser')"
   ]
  },
  {
   "cell_type": "code",
   "execution_count": 3,
   "metadata": {},
   "outputs": [],
   "source": [
    "song_data = []"
   ]
  },
  {
   "cell_type": "code",
   "execution_count": 4,
   "metadata": {},
   "outputs": [],
   "source": [
    "rank = 1"
   ]
  },
  {
   "cell_type": "code",
   "execution_count": 5,
   "metadata": {},
   "outputs": [],
   "source": [
    "songs = soup.select('table > tbody > tr')"
   ]
  },
  {
   "cell_type": "code",
   "execution_count": 7,
   "metadata": {},
   "outputs": [],
   "source": [
    "for song in songs:\n",
    "    title = song.select('div.ellipsis.rank01 > span > a')[0].text\n",
    "    singer = song.select('div.ellipsis.rank02 > a')[0].text\n",
    "    song_data.append(['Melon', rank, title, singer])\n",
    "    rank = rank + 1"
   ]
  },
  {
   "cell_type": "code",
   "execution_count": 8,
   "metadata": {},
   "outputs": [
    {
     "data": {
      "text/html": [
       "<div>\n",
       "<style scoped>\n",
       "    .dataframe tbody tr th:only-of-type {\n",
       "        vertical-align: middle;\n",
       "    }\n",
       "\n",
       "    .dataframe tbody tr th {\n",
       "        vertical-align: top;\n",
       "    }\n",
       "\n",
       "    .dataframe thead th {\n",
       "        text-align: right;\n",
       "    }\n",
       "</style>\n",
       "<table border=\"1\" class=\"dataframe\">\n",
       "  <thead>\n",
       "    <tr style=\"text-align: right;\">\n",
       "      <th></th>\n",
       "      <th>서비스</th>\n",
       "      <th>순위</th>\n",
       "      <th>타이틀</th>\n",
       "      <th>가수</th>\n",
       "    </tr>\n",
       "  </thead>\n",
       "  <tbody>\n",
       "    <tr>\n",
       "      <th>0</th>\n",
       "      <td>Melon</td>\n",
       "      <td>1</td>\n",
       "      <td>롤린 (Rollin')</td>\n",
       "      <td>브레이브걸스</td>\n",
       "    </tr>\n",
       "    <tr>\n",
       "      <th>1</th>\n",
       "      <td>Melon</td>\n",
       "      <td>2</td>\n",
       "      <td>Peaches (Feat. Daniel Caesar &amp; Giveon)</td>\n",
       "      <td>Justin Bieber</td>\n",
       "    </tr>\n",
       "    <tr>\n",
       "      <th>2</th>\n",
       "      <td>Melon</td>\n",
       "      <td>3</td>\n",
       "      <td>라일락</td>\n",
       "      <td>아이유</td>\n",
       "    </tr>\n",
       "    <tr>\n",
       "      <th>3</th>\n",
       "      <td>Melon</td>\n",
       "      <td>4</td>\n",
       "      <td>운전만해 (We Ride)</td>\n",
       "      <td>브레이브걸스</td>\n",
       "    </tr>\n",
       "    <tr>\n",
       "      <th>4</th>\n",
       "      <td>Melon</td>\n",
       "      <td>5</td>\n",
       "      <td>Celebrity</td>\n",
       "      <td>아이유</td>\n",
       "    </tr>\n",
       "  </tbody>\n",
       "</table>\n",
       "</div>"
      ],
      "text/plain": [
       "     서비스  순위                                     타이틀             가수\n",
       "0  Melon   1                            롤린 (Rollin')         브레이브걸스\n",
       "1  Melon   2  Peaches (Feat. Daniel Caesar & Giveon)  Justin Bieber\n",
       "2  Melon   3                                     라일락            아이유\n",
       "3  Melon   4                          운전만해 (We Ride)         브레이브걸스\n",
       "4  Melon   5                               Celebrity            아이유"
      ]
     },
     "execution_count": 8,
     "metadata": {},
     "output_type": "execute_result"
    }
   ],
   "source": [
    "import pandas as pd\n",
    "columns = ['서비스', '순위', '타이틀', '가수']\n",
    "pd_data = pd.DataFrame(song_data, columns = columns)\n",
    "pd_data.head()"
   ]
  },
  {
   "cell_type": "code",
   "execution_count": 9,
   "metadata": {},
   "outputs": [],
   "source": [
    "pd_data.to_excel('melon.xlsx', index = False)"
   ]
  },
  {
   "cell_type": "markdown",
   "metadata": {},
   "source": [
    "## bugs rank"
   ]
  },
  {
   "cell_type": "code",
   "execution_count": null,
   "metadata": {},
   "outputs": [],
   "source": [
    "from selenium import webdriver\n",
    "from bs4 import BeautifulSoup"
   ]
  },
  {
   "cell_type": "code",
   "execution_count": 10,
   "metadata": {},
   "outputs": [],
   "source": [
    "driver = webdriver.Chrome('chromedriver.exe')\n",
    "url = 'http://music.bugs.co.kr/chart'\n",
    "driver.get(url)\n",
    "\n",
    "html = driver.page_source\n",
    "soup = BeautifulSoup(html, 'html.parser')"
   ]
  },
  {
   "cell_type": "code",
   "execution_count": 11,
   "metadata": {},
   "outputs": [
    {
     "name": "stdout",
     "output_type": "stream",
     "text": [
      "104\n"
     ]
    }
   ],
   "source": [
    "songs = soup.select('tr')\n",
    "print(len(songs))"
   ]
  },
  {
   "cell_type": "code",
   "execution_count": 13,
   "metadata": {},
   "outputs": [
    {
     "name": "stdout",
     "output_type": "stream",
     "text": [
      "103\n"
     ]
    }
   ],
   "source": [
    "songs = soup.select('tbody >tr')\n",
    "print(len(songs))"
   ]
  },
  {
   "cell_type": "code",
   "execution_count": 14,
   "metadata": {},
   "outputs": [
    {
     "name": "stdout",
     "output_type": "stream",
     "text": [
      "100\n"
     ]
    }
   ],
   "source": [
    "songs = soup.select('table.byChart > tbody >tr')\n",
    "print(len(songs))"
   ]
  },
  {
   "cell_type": "code",
   "execution_count": 15,
   "metadata": {},
   "outputs": [
    {
     "name": "stdout",
     "output_type": "stream",
     "text": [
      "<tr albumid=\"15432584\" artistid=\"80226913\" multiartist=\"N\" mvid=\"594228\" rowtype=\"track\" trackid=\"78889403\">\n",
      "<input name=\"_isStream\" type=\"hidden\" value=\"78889403\"/>\n",
      "<input name=\"_isDown\" type=\"hidden\" value=\"78889403\"/>\n",
      "<td class=\"check\"><input buyminquality=\"T\" disc_id=\"1\" name=\"check\" title=\"Dun Dun Dance\" type=\"checkbox\" value=\"78889403\"/></td>\n",
      "<td>\n",
      "<div class=\"ranking\">\n",
      "<strong>1</strong>\n",
      "<p class=\"change none\"><em>0</em><span>변동없음</span></p>\n",
      "</div>\n",
      "</td>\n",
      "<td>\n",
      "<a class=\"thumbnail\" href=\"https://music.bugs.co.kr/album/15432584?wl_ref=list_tr_07_chart\" onclick=\"\n",
      "\">\n",
      "<span class=\"mask\"></span>\n",
      "<img alt=\"Dear OHMYGIRL 대표이미지\" onerror=\"bugs.utils.imgError(this);\" src=\"https://image.bugsm.co.kr/album/images/50/154325/15432584.jpg?version=20210514002646.0\"/>\n",
      "</a>\n",
      "</td>\n",
      "<td>\n",
      "<a class=\"trackInfo\" href=\"https://music.bugs.co.kr/track/78889403?wl_ref=list_tr_08_chart\" onclick=\"\n",
      "\">곡정보</a>\n",
      "</td>\n",
      "<th scope=\"row\">\n",
      "<p adult_yn=\"N\" class=\"title\">\n",
      "<a adultcheckval=\"1\" aria-label=\"새창\" href=\"javascript:;\" onclick=\"bugs.wiselog.area('list_tr_09_chart');bugs.music.listen('78889403',true);\n",
      "\" title=\"Dun Dun Dance\">Dun Dun Dance</a>\n",
      "</p>\n",
      "</th>\n",
      "<td class=\"left\">\n",
      "<p class=\"artist\">\n",
      "<a href=\"https://music.bugs.co.kr/artist/80226913?wl_ref=list_tr_10_chart\" onclick=\"\n",
      "\" title=\"오마이걸(OH MY GIRL)\">오마이걸(OH MY GIRL)</a>\n",
      "</p>\n",
      "</td>\n",
      "<td class=\"left\">\n",
      "<a class=\"album\" href=\"https://music.bugs.co.kr/album/15432584?wl_ref=list_tr_11_chart\" onclick=\"\n",
      "\" title=\"Dear OHMYGIRL\">Dear OHMYGIRL</a>\n",
      "</td>\n",
      "<td>\n",
      "<a adultcheckval=\"1\" aria-label=\"새창\" class=\"btn play\" href=\"javascript:;\" onclick=\"bugs.wiselog.area('list_tr_12_chart');bugs.music.listen('78889403',true);\n",
      "\">듣기</a>\n",
      "</td>\n",
      "<td>\n",
      "<a adultcheckval=\"1\" aria-label=\"새창\" class=\"btn addPlaylist\" href=\"javascript:;\" onclick=\"bugs.wiselog.area('list_tr_13_chart');bugs.music.listen('78889403');\n",
      "\">재생목록에 추가</a>\n",
      "</td>\n",
      "<td>\n",
      "<a class=\"btn addAlbum\" href=\"javascript:;\" onclick=\"bugs.wiselog.area('list_tr_14_chart');bugs.music.addTrackToMyAlbum(this,'78889403');\n",
      "\" track_title=\"Dun Dun Dance\">내 앨범에 담기</a>\n",
      "</td>\n",
      "<td>\n",
      "<a adultcheckval=\"1\" aria-label=\"새창\" class=\"btn download flac\" href=\"javascript:;\" onclick=\"bugs.wiselog.area('list_tr_15_chart');bugs.layermenu.down(this,'78889403','true','true','44.1','true','96', null );\n",
      "\"><em class=\"flac\">flac </em>다운로드</a>\n",
      "</td>\n",
      "<td>\n",
      "<a aria-label=\"새창\" class=\"btn viewMV\" href=\"javascript:;\" onclick=\"bugs.wiselog.area('list_tr_16_chart');\n",
      "bugs.layermenu.mv(this,78889403, 594228, 'Y', 'Y', 'Y', 'Y', 78889403, 'N','OVER_12', 'Y');\n",
      "\">영상 재생</a>\n",
      "</td>\n",
      "<td>\n",
      "<a artist_disp_nm=\"오마이걸(OH MY GIRL)\" artist_id=\"80226913\" class=\"btnActions\" href=\"javascript:;\" layer_type=\"CHART\" layerpositiontarget=\"td\" onclick=\"bugs.wiselog.area('list_tr_17_chart');\n",
      "bugs.layermenu.trackMoreAction(this,'78889403','0','15432584','bugs.music.listenRadioFromSeed(\\'78889403\\',\\'track\\');','N', 'Y', '_chart');\n",
      "\" track_title=\"Dun Dun Dance\">기타 기능</a>\n",
      "</td>\n",
      "</tr>\n"
     ]
    }
   ],
   "source": [
    "print(songs[0])"
   ]
  },
  {
   "cell_type": "code",
   "execution_count": 16,
   "metadata": {},
   "outputs": [],
   "source": [
    "song = songs[0]"
   ]
  },
  {
   "cell_type": "code",
   "execution_count": 17,
   "metadata": {},
   "outputs": [
    {
     "data": {
      "text/plain": [
       "11"
      ]
     },
     "execution_count": 17,
     "metadata": {},
     "output_type": "execute_result"
    }
   ],
   "source": [
    "title = song.select('a')\n",
    "len(title)"
   ]
  },
  {
   "cell_type": "code",
   "execution_count": 18,
   "metadata": {},
   "outputs": [
    {
     "data": {
      "text/plain": [
       "2"
      ]
     },
     "execution_count": 18,
     "metadata": {},
     "output_type": "execute_result"
    }
   ],
   "source": [
    "title = song.select('p > a')\n",
    "len(title)"
   ]
  },
  {
   "cell_type": "code",
   "execution_count": 19,
   "metadata": {},
   "outputs": [
    {
     "data": {
      "text/plain": [
       "1"
      ]
     },
     "execution_count": 19,
     "metadata": {},
     "output_type": "execute_result"
    }
   ],
   "source": [
    "title = song.select('p.title > a')\n",
    "len(title)"
   ]
  },
  {
   "cell_type": "code",
   "execution_count": 20,
   "metadata": {},
   "outputs": [
    {
     "data": {
      "text/plain": [
       "'Dun Dun Dance'"
      ]
     },
     "execution_count": 20,
     "metadata": {},
     "output_type": "execute_result"
    }
   ],
   "source": [
    "title = song.select('p.title > a')[0].text\n",
    "title"
   ]
  },
  {
   "cell_type": "code",
   "execution_count": 22,
   "metadata": {},
   "outputs": [
    {
     "data": {
      "text/plain": [
       "'오마이걸(OH MY GIRL)'"
      ]
     },
     "execution_count": 22,
     "metadata": {},
     "output_type": "execute_result"
    }
   ],
   "source": [
    "singer = song.select('p.artist > a')[0].text\n",
    "singer"
   ]
  },
  {
   "cell_type": "code",
   "execution_count": 21,
   "metadata": {},
   "outputs": [
    {
     "data": {
      "text/plain": [
       "'오마이걸(OH MY GIRL)'"
      ]
     },
     "execution_count": 21,
     "metadata": {},
     "output_type": "execute_result"
    }
   ],
   "source": [
    "singer = song.select('p.artist > a')[0].text.strip()\n",
    "singer"
   ]
  },
  {
   "cell_type": "code",
   "execution_count": 24,
   "metadata": {},
   "outputs": [
    {
     "name": "stdout",
     "output_type": "stream",
     "text": [
      "Dun Dun Dance | 오마이걸(OH MY GIRL)\n",
      "상상더하기 | 라붐(LABOUM)\n",
      "서울의 잠 못 이루는 밤 (Feat. 이수현) | 10CM\n",
      "롤린 (Rollin') | 브레이브걸스(Brave Girls)\n",
      "Peaches (feat. Daniel Caesar, Giveon) | Justin Bieber(저스틴 비버)\n",
      "마.피.아. In the morning | ITZY (있지)\n",
      "라일락 | 아이유(IU)\n",
      "운전만해 (We Ride) | 브레이브걸스(Brave Girls)\n",
      "ASAP | STAYC(스테이씨)\n",
      "그대를 사랑하는 10가지 이유(2021) | 이석훈\n",
      "맛 (Hot Sauce) | NCT DREAM\n",
      "불어온다 | 하이라이트(Highlight)\n",
      "Off My Face | Justin Bieber(저스틴 비버)\n",
      "Timeless | SG워너비\n",
      "Celebrity | 아이유(IU)\n",
      "Dynamite | 방탄소년단\n",
      "라라라 | SG워너비\n",
      "고래 (Dive Into You) | NCT DREAM\n",
      "Coin | 아이유(IU)\n",
      "어푸 (Ah puh) | 아이유(IU)\n",
      "내 손을 잡아 | 아이유(IU)\n",
      "Kiss Me More (feat. SZA) | Doja Cat(도자 캣)\n",
      "Make up your mind | 에일리(AILEE)\n",
      "Beautiful Mistakes | Maroon 5(마룬 파이브)\n",
      "365&7 (Feat. JAMIE) | pH-1\n",
      "parachute | John K\n",
      "너의 발걸음에 빛을 비춰줄게 (Prod. 조영수) | 케이시\n",
      "내사람: Partner For Life | SG워너비\n",
      "Blueming | 아이유(IU)\n",
      "On The Ground | 로제(ROSÉ)\n",
      "안녕이란 (Two Letters) | 황치열\n",
      "그냥 안아달란 말야 | 다비치\n",
      "에잇(Prod.&Feat. SUGA of BTS) | 아이유(IU)\n",
      "살다가 | SG워너비\n",
      "Diggity | NCT DREAM\n",
      "At My Worst | Pink Sweat$\n",
      "Leave The Door Open | Bruno Mars(브루노 마스)\n",
      "You make Me | DAY6 (데이식스)\n",
      "Savage Love (Laxed - Siren Beat) (BTS Remix) | Jawsh 685\n",
      "멜로디 | ASH ISLAND\n",
      "취기를 빌려 (취향저격 그녀 X 산들) | 산들\n",
      "우리의 계절 (My Youth) | NCT DREAM\n",
      "주인공 (Irreplaceable) | NCT DREAM\n",
      "Dolphin | 오마이걸(OH MY GIRL)\n",
      "Life Goes On | 방탄소년단\n",
      "사이렌 Remix (Feat. UNEDUCATED KID, Paul Blanco) | 호미들\n",
      "Lovesick Girls | BLACKPINK\n",
      "Like 1999 | Valley\n",
      "닫힌엔딩 (Closed Ending) | 숀(SHAUN)\n",
      "봄꽃 | 에일리(AILEE)\n",
      "LOVE DAY (2021) (바른연애 길잡이 X 양요섭, 정은지) | 양요섭\n",
      "흔들리는 꽃들 속에서 네 샴푸향이 느껴진거야 | 장범준\n",
      "아이와 나의 바다 | 아이유(IU)\n",
      "Dear you (나의 봄에게) | 오마이걸(OH MY GIRL)\n",
      "죄와 벌 | SG워너비\n",
      "굿모닝 (Feat. 원슈타인) | 버벌진트(Verbal Jint)\n",
      "Rainbow (책갈피) | NCT DREAM\n",
      "밤편지 | 아이유(IU)\n",
      "돌림노래 (Feat. DEAN) | 아이유(IU)\n",
      "INSIDE OUT | 뉴이스트\n",
      "Flu | 아이유(IU)\n",
      "살짝 설렜어 (Nonstop) | 오마이걸(OH MY GIRL)\n",
      "Connected | GRAY(그레이)\n",
      "Rocket | NCT DREAM\n",
      "기다릴게 | 하동균\n",
      "12:45 (Stripped) | Etham\n",
      "봄 안녕 봄 | 아이유(IU)\n",
      "작은 것들을 위한 시 (Boy With Luv) (Feat. Halsey) | 방탄소년단\n",
      "에필로그 | 아이유(IU)\n",
      "잠이 오질 않네요 | 장범준\n",
      "밤하늘의 별을(2020) | 경서\n",
      "2002 | Anne-Marie(앤 마리)\n",
      "ANL | NCT DREAM\n",
      "나랑 같이 걸을래 (바른연애 길잡이 X 적재) | 적재\n",
      "Bang! | AJR\n",
      "어떻게 이별까지 사랑하겠어, 널 사랑하는 거지 | AKMU (악동뮤지션)\n",
      "Atlantis | SHINee (샤이니)\n",
      "모든 날, 모든 순간 (Every day, Every Moment) | 폴킴(Paul Kim)\n",
      "Don't Call Me | SHINee (샤이니)\n",
      "Countdown (3, 2, 1) | NCT DREAM\n",
      "아리랑 | SG워너비\n",
      "이 밤을 빌려 말해요 (바른연애 길잡이 X 10CM) | 10CM\n",
      "Bk Love (feat. 이해리 of 다비치) | MC 스나이퍼(MC Sniper)\n",
      "지금처럼만 (Be There For You) | NCT DREAM\n",
      "Daisy (Feat. pH-1) | 미란이\n",
      "Memories | Maroon 5(마룬 파이브)\n",
      "METEOR | 창모(CHANGMO)\n",
      "이렇게 좋아해 본 적이 없어요 | CHEEZE(치즈)\n",
      "밝게 빛나는 별이 되어 비춰줄게 | 송이한\n",
      "Drunk-Dazed | ENHYPEN\n",
      "밤이야 | 하이라이트(Highlight)\n",
      "Giant | 우기 ((여자)아이들)\n",
      "오래된 노래 | 스탠딩 에그(Standing Egg)\n",
      "하이힐 | 브레이브걸스(Brave Girls)\n",
      "water color | 휘인(Whee In)\n",
      "VVS (Feat. JUSTHIS) (Prod. GroovyRoom) | 미란이\n",
      "When We Disco (Duet with 선미) | 박진영\n",
      "Outerspace (Feat. 로꼬) | 강다니엘(KANG DANIEL)\n",
      "어떤X (What Type of X) | 제시(Jessi)\n",
      "별 보러 가자 | 적재\n"
     ]
    }
   ],
   "source": [
    "songs = soup.select('table.byChart > tbody >tr')\n",
    "for song in songs:\n",
    "    title = song.select('p.title > a')[0].text\n",
    "    singer = song.select('p.artist > a')[0].text\n",
    "    print(title, singer, sep =' | ')"
   ]
  },
  {
   "cell_type": "code",
   "execution_count": 25,
   "metadata": {},
   "outputs": [],
   "source": [
    "song_data = []\n",
    "rank = 1\n",
    "songs = soup.select('table.byChart > tbody >tr')\n",
    "for song in songs:\n",
    "    title = song.select('p.title > a')[0].text\n",
    "    singer = song.select('p.artist > a')[0].text\n",
    "    song_data.append(['Bugs',rank,title,singer])\n",
    "    rank = rank + 1"
   ]
  },
  {
   "cell_type": "code",
   "execution_count": 26,
   "metadata": {},
   "outputs": [
    {
     "name": "stdout",
     "output_type": "stream",
     "text": [
      "<class 'pandas.core.frame.DataFrame'>\n",
      "RangeIndex: 100 entries, 0 to 99\n",
      "Data columns (total 4 columns):\n",
      " #   Column  Non-Null Count  Dtype \n",
      "---  ------  --------------  ----- \n",
      " 0   서비스     100 non-null    object\n",
      " 1   순위      100 non-null    int64 \n",
      " 2   타이틀     100 non-null    object\n",
      " 3   가수      100 non-null    object\n",
      "dtypes: int64(1), object(3)\n",
      "memory usage: 3.2+ KB\n"
     ]
    }
   ],
   "source": [
    "import pandas as pd\n",
    "columns = ['서비스','순위','타이틀','가수']\n",
    "pd_data = pd.DataFrame(song_data,columns=columns)\n",
    "pd_data.info()"
   ]
  },
  {
   "cell_type": "code",
   "execution_count": 28,
   "metadata": {},
   "outputs": [],
   "source": [
    "pd_data.to_excel('bugs.xlsx', index = False)"
   ]
  },
  {
   "cell_type": "code",
   "execution_count": null,
   "metadata": {},
   "outputs": [],
   "source": [
    "from selenium import webdriver\n",
    "from bs4 import BeautifulSoup\n",
    "import pandas as pd\n",
    "\n",
    "driver = webdriver.Chrome('chromedriver.exe')\n",
    "url = 'http://music.bugs.co.kr/chart'\n",
    "driver.get(url)\n",
    "\n",
    "html = driver.page_source\n",
    "soup = BeautifulSoup(html, 'html.parser')\n",
    "\n",
    "song_data = []\n",
    "rank = 1\n",
    "songs = soup.select('table.byChart > tbody >tr')\n",
    "for song in songs:\n",
    "    title = song.select('p.title > a')[0].text\n",
    "    singer = song.select('p.artist > a')[0].text\n",
    "    song_data.append(['Bugs',rank,title,singer])\n",
    "    rank = rank + 1\n",
    "    \n",
    "columns = ['서비스','순위','타이틀','가수']\n",
    "pd_data = pd.DataFrame(song_data,columns=columns)\n",
    "pd_data.to_excel('bugs.xlsx', index = False)"
   ]
  },
  {
   "cell_type": "markdown",
   "metadata": {},
   "source": [
    "## Ginie rank"
   ]
  },
  {
   "cell_type": "code",
   "execution_count": 31,
   "metadata": {},
   "outputs": [],
   "source": [
    "from selenium import webdriver\n",
    "from bs4 import BeautifulSoup\n",
    "\n",
    "driver = webdriver.Chrome('chromedriver.exe')\n",
    "url = 'http://www.genie.co.kr/chart/top200'\n",
    "driver.get(url)\n",
    "\n",
    "html = driver.page_source\n",
    "soup = BeautifulSoup(html, 'html.parser')"
   ]
  },
  {
   "cell_type": "code",
   "execution_count": 32,
   "metadata": {},
   "outputs": [
    {
     "name": "stdout",
     "output_type": "stream",
     "text": [
      "50\n"
     ]
    }
   ],
   "source": [
    "songs = soup.select('table > tbody > tr')\n",
    "print(len(songs))"
   ]
  },
  {
   "cell_type": "code",
   "execution_count": 33,
   "metadata": {},
   "outputs": [
    {
     "name": "stdout",
     "output_type": "stream",
     "text": [
      "<tr class=\"list\" songid=\"93227614\">\n",
      "<td class=\"check\"><input class=\"select-check\" title=\"맛 (Hot Sauce)\" type=\"checkbox\"/></td>\n",
      "<td class=\"number\">1\n",
      "                                        \n",
      "                                    <span class=\"rank\">\n",
      "<span class=\"rank\"><span class=\"rank-none\"><span class=\"hide\">유지</span></span></span>\n",
      "</span>\n",
      "</td>\n",
      "<td><a class=\"cover\" href=\"#\" onclick=\"fnViewAlbumLayer('82032295');return false;\"><span class=\"mask\"></span><img alt=\"맛 (Hot Sauce) - The 1st Album\" onerror=\"this.src='//image.genie.co.kr/imageg/web/common/blank_68.gif';\" src=\"//image.genie.co.kr/Y/IMAGE/IMG_ALBUM/082/032/295/82032295_1620625316209_1_140x140.JPG/dims/resize/Q_80,0\"/></a></td>\n",
      "<td class=\"link\"><a class=\"btn-basic btn-info\" href=\"#\" onclick=\"fnViewSongInfo('93227614');return false;\">곡 제목 정보 페이지</a></td>\n",
      "<td class=\"info\">\n",
      "<a class=\"title ellipsis\" href=\"#\" onclick=\"fnPlaySong('93227614','1');return false;\" title=\"재생\">\n",
      "                                        \n",
      "                                            \n",
      "                                        \n",
      "                                        \n",
      "                                        \n",
      "                                        \n",
      "                                            \n",
      "                                                맛 (Hot Sauce)</a>\n",
      "<a class=\"artist ellipsis\" href=\"#\" onclick=\"fnViewArtist('80542006');return false;\">NCT DREAM</a>\n",
      "<div class=\"toggle-button-box\">\n",
      "<button class=\"btn artist-etc\" onclick=\"fnRelationArtistList('93227614');\" type=\"button\">외</button>\n",
      "<ul class=\"list\" id=\"RelationArtist_93227614\"></ul>\n",
      "</div>\n",
      "<i class=\"bar\">|</i>\n",
      "<a class=\"albumtitle ellipsis\" href=\"#\" onclick=\"fnViewAlbumLayer('82032295');return false;\">맛 (Hot Sauce) - The 1st Album</a>\n",
      "</td>\n",
      "<td class=\"btns\"><a class=\"btn-basic btn-listen\" href=\"#\" onclick=\"fnPlaySong('93227614;' ,'1'); return false;\" title=\"재생\">듣기</a></td>\n",
      "<td class=\"btns\"><a class=\"btn-basic btn-add\" href=\"#\" onclick=\"fnPlaySong('93227614;' ,'3'); return false;\" title=\"추가\">재생목록에 추가</a></td>\n",
      "<td class=\"btns\"><button class=\"btn-basic btn-album\" id=\"add_my_album_93227614\" onclick=\"fnAddMyAlbumForm('#add_my_album_93227614' , '93227614' ,10, 10);return false;\" songid=\"93227614\" type=\"button\">플레이리스트에 담기</button></td>\n",
      "<td class=\"btns\"><a class=\"btn-basic btn-down\" href=\"#\" onclick=\"fnDownSong('93227614');return false;\" title=\"다운\">다운로드</a></td>\n",
      "<td class=\"btns\">\n",
      "<div class=\"toggle-button-box lyr-mv\" id=\"list-mv_93227614\">\n",
      "<a alt=\"맛 (Hot Sauce)\" class=\"btn btn-basic btn-mv\" href=\"#\" onclick=\"fnPlayMv('93227614','3'); return false;\" title=\"뮤비\">뮤직비디오 보기</a>\n",
      "</div>\n",
      "</td>\n",
      "<td class=\"more\">\n",
      "<div class=\"toggle-button-box\">\n",
      "<button class=\"btn btn-basic btn-more\" type=\"button\">더보기</button>\n",
      "<ul class=\"list\">\n",
      "<li><a class=\"item\" href=\"#\" onclick=\"shareDo('93227614');return false;\" title=\"공유\">공유하기/음악나누기</a></li>\n",
      "<li><a class=\"item\" href=\"#\" onclick=\"fnGiftSong('93227614');return false;\" title=\"선물\">선물하기</a></li>\n",
      "</ul>\n",
      "</div>\n",
      "</td>\n",
      "</tr>\n"
     ]
    }
   ],
   "source": [
    "print(songs[0])"
   ]
  },
  {
   "cell_type": "code",
   "execution_count": 34,
   "metadata": {},
   "outputs": [],
   "source": [
    "song = songs[0]"
   ]
  },
  {
   "cell_type": "code",
   "execution_count": 35,
   "metadata": {},
   "outputs": [
    {
     "data": {
      "text/plain": [
       "1"
      ]
     },
     "execution_count": 35,
     "metadata": {},
     "output_type": "execute_result"
    }
   ],
   "source": [
    "title = song.select('a.title')\n",
    "len(title)"
   ]
  },
  {
   "cell_type": "code",
   "execution_count": 36,
   "metadata": {},
   "outputs": [
    {
     "data": {
      "text/plain": [
       "'\\n                                        \\n                                            \\n                                        \\n                                        \\n                                        \\n                                        \\n                                            \\n                                                맛 (Hot Sauce)'"
      ]
     },
     "execution_count": 36,
     "metadata": {},
     "output_type": "execute_result"
    }
   ],
   "source": [
    "title = song.select('a.title')[0].text\n",
    "title"
   ]
  },
  {
   "cell_type": "code",
   "execution_count": 37,
   "metadata": {},
   "outputs": [
    {
     "data": {
      "text/plain": [
       "'맛 (Hot Sauce)'"
      ]
     },
     "execution_count": 37,
     "metadata": {},
     "output_type": "execute_result"
    }
   ],
   "source": [
    "title = song.select('a.title')[0].text.strip()\n",
    "title"
   ]
  },
  {
   "cell_type": "code",
   "execution_count": 38,
   "metadata": {},
   "outputs": [
    {
     "data": {
      "text/plain": [
       "1"
      ]
     },
     "execution_count": 38,
     "metadata": {},
     "output_type": "execute_result"
    }
   ],
   "source": [
    "singer = song.select('a.artist')\n",
    "len(singer)"
   ]
  },
  {
   "cell_type": "code",
   "execution_count": 39,
   "metadata": {},
   "outputs": [
    {
     "data": {
      "text/plain": [
       "'NCT DREAM'"
      ]
     },
     "execution_count": 39,
     "metadata": {},
     "output_type": "execute_result"
    }
   ],
   "source": [
    "singer = song.select('a.artist')[0].text\n",
    "singer"
   ]
  },
  {
   "cell_type": "code",
   "execution_count": 40,
   "metadata": {},
   "outputs": [
    {
     "name": "stdout",
     "output_type": "stream",
     "text": [
      "맛 (Hot Sauce)|NCT DREAM\n",
      "Dun Dun Dance|오마이걸 (OH MY GIRL)\n",
      "상상더하기|라붐 (LABOUM)\n",
      "롤린 (Rollin')|브레이브걸스 (Brave girls)\n",
      "Peaches (Feat. Daniel Caesar & Giveon)|Justin Bieber\n",
      "라일락|아이유 (IU)\n",
      "운전만해 (We Ride)|브레이브걸스 (Brave girls)\n",
      "Timeless|SG워너비\n",
      "Celebrity|아이유 (IU)\n",
      "마.피.아. In the morning|ITZY (있지)\n",
      "서울의 잠 못 이루는 밤 (Feat. 이수현)|10CM\n",
      "고래 (Dive Into You)|NCT DREAM\n",
      "라라라|SG워너비\n",
      "우리의 계절 (My Youth)|NCT DREAM\n",
      "Coin|아이유 (IU)\n",
      "Diggity|NCT DREAM\n",
      "Dynamite|방탄소년단\n",
      "At My Worst|Pink Sweat$\n",
      "LOVE DAY (2021) (바른연애 길잡이 X 양요섭, 정은지)|양요섭 & 정은지\n",
      "불어온다|하이라이트 (Highlight)\n",
      "Rainbow (책갈피)|NCT DREAM\n",
      "내 손을 잡아|아이유 (IU)\n",
      "주인공 (Irreplaceable)|NCT DREAM\n",
      "ASAP|STAYC (스테이씨)\n",
      "Blueming|아이유 (IU)\n",
      "내사람 : Partner For Life|SG워너비\n",
      "Rocket|NCT DREAM\n",
      "그냥 안아달란 말야|다비치\n",
      "흔들리는 꽃들 속에서 네 샴푸향이 느껴진거야|장범준\n",
      "ANL|NCT DREAM\n",
      "On The Ground|로제 (ROSE)\n",
      "어푸 (Ah puh)|아이유 (IU)\n",
      "이제 나만 믿어요|임영웅\n",
      "Countdown (3, 2, 1)|NCT DREAM\n",
      "지금처럼만 (Be There For You)|NCT DREAM\n",
      "에잇 (Prod. & Feat. SUGA of BTS)|아이유 (IU)\n",
      "너의 발걸음에 빛을 비춰줄게 (Prod. by 조영수)|케이시 (Kassy)\n",
      "Lovesick Girls|BLACKPINK\n",
      "2002|Anne-Marie\n",
      "Dolphin|오마이걸 (OH MY GIRL)\n",
      "12 : 45 (Stripped)|etham\n",
      "밝게 빛나는 별이 되어 비춰줄게|송이한\n",
      "멜로디|ASH ISLAND\n",
      "잠이 오질 않네요|장범준\n",
      "VVS (Feat. JUSTHIS) (Prod. by GroovyRoom)|미란이 (Mirani) & 먼치맨 (MUNCHMAN) & Khundi Panda & 머쉬베놈 (MUSHVENOM)\n",
      "밤하늘의 별을 (2020)|경서\n",
      "살다가|SG워너비\n",
      "별빛 같은 나의 사랑아|임영웅\n",
      "사이렌 Remix (Feat. UNEDUCATED KID & Paul Blanco)|호미들\n",
      "Savage Love (Laxed - Siren Beat) (BTS Remix)|Jawsh 685 & Jason Derulo & 방탄소년단\n"
     ]
    }
   ],
   "source": [
    "songs = soup.select('tbody > tr')\n",
    "for song in songs:\n",
    "    title = song.select('a.title')[0].text.strip()\n",
    "    singer = song.select('a.artist')[0].text\n",
    "    print(title, singer, sep = '|')"
   ]
  },
  {
   "cell_type": "code",
   "execution_count": 41,
   "metadata": {},
   "outputs": [],
   "source": [
    "song_data = []\n",
    "rank = 1\n",
    "songs = soup.select('tbody > tr')\n",
    "for song in songs:\n",
    "    title = song.select('a.title')[0].text.strip()\n",
    "    singer = song.select('a.artist')[0].text\n",
    "    song_data.append(['Genie',rank, title, singer])\n",
    "    rank = rank + 1"
   ]
  },
  {
   "cell_type": "code",
   "execution_count": 42,
   "metadata": {},
   "outputs": [],
   "source": [
    "import pandas as pd\n",
    "\n",
    "columns = ['서비스','순위','타이틀','가수']\n",
    "pd_data = pd.DataFrame(song_data,columns = columns)\n",
    "pd_data.to_excel('genie.xlsx', index = False)"
   ]
  },
  {
   "cell_type": "code",
   "execution_count": null,
   "metadata": {},
   "outputs": [],
   "source": [
    "from selenium import webdriver\n",
    "from bs4 import BeautifulSoup\n",
    "import pandas as pd\n",
    "\n",
    "driver = webdriver.Chrome('chromedriver.exe')\n",
    "url = 'http://www.genie.co.kr/chart/top200'\n",
    "driver.get(url)\n",
    "\n",
    "html = driver.page_source\n",
    "soup = BeautifulSoup(html, 'html.parser')\n",
    "\n",
    "\n",
    "song_data = []\n",
    "rank = 1\n",
    "songs = soup.select('tbody > tr')\n",
    "for song in songs:\n",
    "    title = song.select('a.title')[0].text.strip()\n",
    "    singer = song.select('a.artist')[0].text\n",
    "    song_data.append(['Genie',rank, title, singer])\n",
    "    rank = rank + 1\n",
    "    \n",
    "columns = ['서비스','순위','타이틀','가수']\n",
    "pd_data = pd.DataFrame(song_data,columns = columns)\n",
    "pd_data.to_excel('genie.xlsx', index = False)"
   ]
  },
  {
   "cell_type": "markdown",
   "metadata": {},
   "source": [
    "## merge each ranking"
   ]
  },
  {
   "cell_type": "code",
   "execution_count": 44,
   "metadata": {},
   "outputs": [],
   "source": [
    "import pandas as pd\n",
    "excel_names = ['melon.xlsx','bugs.xlsx','genie.xlsx']\n",
    "appended_data = pd.DataFrame()"
   ]
  },
  {
   "cell_type": "code",
   "execution_count": 45,
   "metadata": {},
   "outputs": [],
   "source": [
    "for name in excel_names:\n",
    "    pd_data = pd.read_excel(name)\n",
    "    appended_data = appended_data.append(pd_data)"
   ]
  },
  {
   "cell_type": "code",
   "execution_count": 46,
   "metadata": {},
   "outputs": [
    {
     "name": "stdout",
     "output_type": "stream",
     "text": [
      "<class 'pandas.core.frame.DataFrame'>\n",
      "Int64Index: 250 entries, 0 to 49\n",
      "Data columns (total 4 columns):\n",
      " #   Column  Non-Null Count  Dtype \n",
      "---  ------  --------------  ----- \n",
      " 0   서비스     250 non-null    object\n",
      " 1   순위      250 non-null    int64 \n",
      " 2   타이틀     250 non-null    object\n",
      " 3   가수      250 non-null    object\n",
      "dtypes: int64(1), object(3)\n",
      "memory usage: 9.8+ KB\n"
     ]
    }
   ],
   "source": [
    "appended_data.info()"
   ]
  },
  {
   "cell_type": "code",
   "execution_count": 47,
   "metadata": {},
   "outputs": [],
   "source": [
    "appended_data.to_excel('total.xlsx', index = False)"
   ]
  },
  {
   "cell_type": "code",
   "execution_count": null,
   "metadata": {},
   "outputs": [],
   "source": []
  }
 ],
 "metadata": {
  "kernelspec": {
   "display_name": "Python 3",
   "language": "python",
   "name": "python3"
  },
  "language_info": {
   "codemirror_mode": {
    "name": "ipython",
    "version": 3
   },
   "file_extension": ".py",
   "mimetype": "text/x-python",
   "name": "python",
   "nbconvert_exporter": "python",
   "pygments_lexer": "ipython3",
   "version": "3.8.5"
  }
 },
 "nbformat": 4,
 "nbformat_minor": 4
}
