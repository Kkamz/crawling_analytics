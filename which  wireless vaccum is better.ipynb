{
 "cells": [
  {
   "cell_type": "code",
   "execution_count": 5,
   "metadata": {},
   "outputs": [],
   "source": [
    "from bs4 import BeautifulSoup"
   ]
  },
  {
   "cell_type": "code",
   "execution_count": 2,
   "metadata": {},
   "outputs": [],
   "source": [
    "from selenium import webdriver\n",
    "driver = webdriver.Chrome(\"chromedriver.exe\")\n",
    "url = \"http://search.danawa.com/dsearch.php?query=무선청소기&tab=main\"\n",
    "driver.get(url)"
   ]
  },
  {
   "cell_type": "code",
   "execution_count": 6,
   "metadata": {},
   "outputs": [],
   "source": [
    "html = driver.page_source\n",
    "soup = BeautifulSoup(html,'html.parser')"
   ]
  },
  {
   "cell_type": "code",
   "execution_count": 8,
   "metadata": {},
   "outputs": [
    {
     "data": {
      "text/plain": [
       "45"
      ]
     },
     "execution_count": 8,
     "metadata": {},
     "output_type": "execute_result"
    }
   ],
   "source": [
    "prod_items = soup.select('li.prod_item')\n",
    "len(prod_items)"
   ]
  },
  {
   "cell_type": "code",
   "execution_count": 10,
   "metadata": {},
   "outputs": [
    {
     "data": {
      "text/plain": [
       "45"
      ]
     },
     "execution_count": 10,
     "metadata": {},
     "output_type": "execute_result"
    }
   ],
   "source": [
    "prod_items = soup.select('ul.product_list > li.prod_item')\n",
    "len(prod_items)"
   ]
  },
  {
   "cell_type": "code",
   "execution_count": 12,
   "metadata": {},
   "outputs": [
    {
     "data": {
      "text/plain": [
       "44"
      ]
     },
     "execution_count": 12,
     "metadata": {},
     "output_type": "execute_result"
    }
   ],
   "source": [
    "prod_items = soup.select('div.main_prodlist > ul.product_list > li.prod_item')\n",
    "len(prod_items)"
   ]
  },
  {
   "cell_type": "code",
   "execution_count": 14,
   "metadata": {},
   "outputs": [
    {
     "name": "stdout",
     "output_type": "stream",
     "text": [
      "LG전자 오브제컬렉션 코드제로 ThinQ A9S AO9571\n"
     ]
    }
   ],
   "source": [
    "title = prod_items[0].select('p.prod_name > a')[0].text.strip()\n",
    "print(title)"
   ]
  },
  {
   "cell_type": "code",
   "execution_count": 15,
   "metadata": {},
   "outputs": [
    {
     "name": "stdout",
     "output_type": "stream",
     "text": [
      "핸디/스틱청소기 / 핸디+스틱형 / 무선형 / 흡입+걸레겸용 / [성능] 2중터보싸이클론 / 스마트인버터모터 / 흡입력: 210W / 소비전력: 590W / [배터리] 분리형 / 리튬이온 (2개) / 충전시간: 4시간 / 사용시간: 1시간(개당) / [필터] 헤파필터 / H13급 / 5단계여과 / [기능] 자동물공급 / 배터리잔량표시 / IoT기능 / [구성] 바닥 / 물걸레 / 침구 / 솔형 / 틈새 / 올인원타워 / [부가] 알레르기인증(BAF) / 미세먼지인증(SLG) / 색상: 카밍베이지 / 무게: 2.6kg / 먼지통자동비움 / 크기(가로x세로x깊이): 250x1120x260mm\n"
     ]
    }
   ],
   "source": [
    "spec_list = prod_items[0].select('div.spec_list')[0].text.strip()\n",
    "print(spec_list)"
   ]
  },
  {
   "cell_type": "code",
   "execution_count": 16,
   "metadata": {},
   "outputs": [
    {
     "name": "stdout",
     "output_type": "stream",
     "text": [
      "1202000\n"
     ]
    }
   ],
   "source": [
    "price = prod_items[0].select('li.rank_one > p.price_sect > a > strong')[0].text.strip().replace(\",\",\"\")\n",
    "print(price)"
   ]
  },
  {
   "cell_type": "code",
   "execution_count": 43,
   "metadata": {},
   "outputs": [
    {
     "name": "stdout",
     "output_type": "stream",
     "text": [
      "44\n",
      "[['DIBEA X30', '핸디/스틱청소기 / 핸디+스틱형 / 무선형 / 흡입전용 / [성능] 싸이클론 / BLDC모터 / 흡입력: 25000Pa / 소비전력: 400W / [배터리] 분리형 / 리튬이온 / 용량: 2000mAh / 충전시간: 2~3시간 / 사용시간: 50분(개당) / [필터] 헤파필터 / H13급 / [기능] LED라이트 / [구성] 바닥 / 솔형 / 틈새 / 연장툴 / 거치대 / [부가] 먼지통용량: 0.5L / 색상: 블루 / 무게: 2.5kg / 크기(가로x세로x깊이): 256x1172x217mm', '188000'], ['코칸 차량용 무선 진공 핸디 청소기 CHC-UY01', '차량용청소기 / 무선 / 흡입력: 5,800Pa / 헤파필터 / 추가노즐: 솔브러쉬 / 크기: 70x290mm / 무게: 560g', '61870'], ['미로 MPW10', '물걸레청소기 / 물걸레+진공 / 회전식 / 무선형 / 배터리: 리튬이온 / 용량: 2500mAh / 충전시간: 7시간 / 사용시간: 1시간40분(개당) / [기능] LED라이트 / 각도조절 / 셀프스탠딩 / 배터리잔량표시 / 프리볼트 / 싸이클론 / BLDC모터 / 헤파필터 / 5단계여과 / 소비전력: 450W / [부가] 색상: 화이트골드 / 무게: 3kg / 패드: 극세사(벨크로형) / 크기(가로x세로x깊이): 410x1100x225mm', '449090'], ['쿠쿠전자 인스퓨어 파워클론 CVC-A1410UG', '핸디/스틱청소기 / 핸디+스틱형 / 무선형 / 흡입전용 / [성능] 싸이클론 / BLDC모터 / 흡입력: 140AW / 흡입력: 23000Pa / 소비전력: 420W / [배터리] 분리형 / 리튬이온 / 사용시간: 35분(개당) / [필터] 헤파필터 / H13급 / 5단계여과 / [기능] 먼지감지센서 / 배터리잔량표시 / [구성] 바닥 / 침구 / 솔형 / 틈새 / 연장툴 / 거치대 / [부가] 색상: 어반그레이 / 무게: 1.82kg / 크기(가로x세로x깊이): 250x1200x230mm', '324800'], ['jH9SnlKpsn', 'jH9SnlKpsn231458', '231458'], ['LG전자 코드제로 ThinQ A9S AS9571SWKT', '핸디/스틱청소기 / 핸디+스틱형 / 무선형 / 흡입+걸레겸용 / [성능] 2중터보싸이클론 / 스마트인버터모터 / 흡입력: 210W / 소비전력: 590W / [배터리] 분리형 / 리튬이온 (2개) / 충전시간: 4시간 / 사용시간: 1시간(개당) / [필터] 헤파필터 / H13급 / 5단계여과 / [기능] 자동물공급 / 배터리잔량표시 / IoT기능 / [구성] 바닥 / 물걸레 / 침구 / 솔형 / 틈새 / 올인원타워 / [부가] 알레르기인증(BAF) / 색상: 판타지실버+카밍베이지 / 무게: 2.6kg / 일체형배기필터 / 먼지통자동비움 / 크기(가로x세로x깊이): 250x1120x260mm', '1261490'], ['', '', 0], ['홈플리 HP-V2120W', '욕실청소기 / 스틱형 / 무선형 / [성능] 소비전력: 14W / [배터리] 용량: 2000mAh / 충전시간: 8시간 / 사용시간: 50분(개당) / [구성] 거치대 / 색상: 화이트 / 무게: 1.46kg / 방수 / 브러쉬: 평면, 틈새, 원형, 광택 / 크기(가로x세로x깊이): 70x1110x70mm', '49700'], ['테팔 엑스퍼트 3.60 TY6921', '핸디/스틱청소기 / 핸디+스틱형 / 무선형 / 흡입전용 / [성능] 싸이클론 / DC모터 / [배터리] 분리형 / 리튬이온 / 충전시간: 5시간 / 사용시간: 45분(개당) / [기능] LED라이트 / 배터리잔량표시 / 프리볼트 / [구성] 바닥 / 거치대 / [부가] 먼지통용량: 0.5L / 색상: 블랙+블루 / 무게: 2.2kg', '167200'], ['다이슨 V10 플러피 프로', '핸디/스틱청소기 / 핸디+스틱형 / 무선형 / 흡입전용 / [성능] 싸이클론 / 소비전력: 525W / [배터리] 리튬이온 / 충전시간: 3시간30분 / 사용시간: 1시간(개당) / [구성] 소프트롤러 / 미니모터 / 솔형 / 더스팅 / 스터번더트 / 틈새 / 매트리스 / 연장툴 / 업탑어댑터 / 도킹스테이션 / [부가] 먼지통용량: 0.5L / 색상: 레드 / 무게: 2.5kg / 크기(가로x세로x깊이): 250x1241x256mm', '608990'], ['에이스전자 ARW-C100', '로봇청소기 / 흡입+걸레 / [센서] 장애물인식센서 / 추락방지센서 / [성능] BLDC모터 / 배터리: 리튬이온 / 용량: 2600mAh / 충전시간: 5시간 / 사용시간: 2시간(개당) / 헤파필터 / 소비전력: 12W / [기능] 문턱등반 / 자동충전 / 리모콘 / [부가] 먼지통용량: 0.3L / 색상: 화이트, 블랙, 블루 / 무게: 2.5kg / 무선형 / 패드: 극세사 / 크기(가로x깊이): 310x72x310mm', '249000'], ['DIBEA D008 프로 헤파지움', '핸디/스틱청소기 / 핸디+스틱형 / 무선형 / [성능] 싸이클론 / 흡입력: 17000Pa / 소비전력: 250W / [배터리] 리튬이온 / 충전시간: 4~5시간 / 사용시간: 35분(개당) / [필터] 헤파필터 / H13급 / [기능] LED라이트 / [구성] 바닥 / 침구 / 솔형 / 틈새 / 연장툴 / 거치대 / [부가] 먼지통용량: 0.55L / 무게: 2.2kg / 크기(가로x세로x깊이): 240x1024x211mm', '176040'], ['', '', 0], ['보쉬 글래스 백', '핸디/스틱청소기 / 핸디형 / 무선형 / [배터리] 리튬이온 / 충전시간: 3시간 / 사용시간: 30분(개당) / [기능] 배터리잔량표시 / [부가] 무게: 0.7kg / 유리창전용 / 폴리퍼파우더코팅', '118180'], ['베이스어스 차량용 캡슐 무선 진공 청소기', '차량용청소기 / 무선 / 흡입력: 4,000Pa / 최대출력: 65W / 3중필터 / 스테인리스 필터 / 추가노즐: 틈새, 솔브러쉬 / 크기: 65x232mm / 색상: 블랙, 실버', '33920'], ['아이룸 AST-009 플러스 맥스', '핸디/스틱청소기 / 핸디+스틱형 / 무선형 / 흡입전용 / [성능] 싸이클론 / 흡입력: 12000Pa / 소비전력: 160W / [필터] 헤파필터 / [기능] LED라이트 / 배터리잔량표시 / [구성] 바닥 / 침구 / 솔형 / 틈새 / 거치대 / [부가] 색상: 퍼플 / 무게: 1.89kg', '107950'], ['툴앤툴 네오스틱 T300', '핸디/스틱청소기 / 핸디+스틱형 / 무선형 / 흡입전용 / [성능] 싸이클론 / BLDC모터 / 흡입력: 26000Pa / 소비전력: 300W / [배터리] 분리형 / 리튬이온 / 용량: 2150mAh / 충전시간: 4시간 / 사용시간: 35분(개당) / [필터] 헤파필터 / H14급 / 4단계여과 / [기능] 프리볼트 / [구성] 바닥 / 솔형 / 틈새 / 연장툴 / 거치대 / [부가] 먼지통용량: 0.8L / 색상: 그레이 / 무게: 2.2kg / 크기(가로x세로x깊이): 240x1260x220mm', '198950'], ['일렉트로룩스 퓨어 Q9 PQ91-3EM', '핸디/스틱청소기 / 핸디+스틱형 / 무선형 / 흡입전용 / [성능] 싸이클론 / [배터리] 리튬이온 / 충전시간: 4시간 / 사용시간: 55분(개당) / [필터] 5단계여과 / [기능] 브러쉬자동청소 / 셀프스탠딩 / LED라이트 / [구성] 바닥 / 솔형 / 틈새 / 긴틈새 / 거치대 / [부가] 먼지통용량: 0.3L / 색상: 마호가니브론즈 / 무게: 2.75kg / 크기(가로x세로x깊이): 256x1100x130mm', '277830'], ['', '', 0], ['캐치웰 NEW F7 플러스', '핸디/스틱청소기 / 핸디+스틱형 / 무선형 / 흡입전용 / [성능] 싸이클론 / BLDC모터 / 흡입력: 22000Pa / 소비전력: 220W / [배터리] 리튬이온 / 용량: 2200mAh / 충전시간: 6시간 / 사용시간: 35분(개당) / [필터] 헤파필터 / H13급 / 4단계여과 / [기능] LED라이트 / 배터리잔량표시 / [구성] 바닥 / 솔형 / 틈새 / 연장툴 / 거치대 / [부가] 먼지통용량: 0.5L / 색상: 레드 / 무게: 2.11kg', '149000'], ['일렉트로룩스 퓨어 Q9 파워프로 PQ92-3EMF', '핸디/스틱청소기 / 핸디+스틱형 / 무선형 / 흡입전용 / [성능] 싸이클론 / [배터리] 리튬이온 / 충전시간: 4시간 / 사용시간: 53분(개당) / [필터] 5단계여과 / [기능] 셀프스탠딩 / LED라이트 / [구성] 바닥 / 솔형 / 틈새 / 긴틈새 / 거치대 / [부가] 먼지통용량: 0.3L / 색상: 마호가니브론즈 / 무게: 2.89kg / 크기(가로x세로x깊이): 256x1097x155mm', '297570'], ['삼성전자 제트 VS20T9257SD', '핸디/스틱청소기 / 핸디+스틱형 / 무선형 / 흡입+걸레겸용 / [성능] 싸이클론 / 인버터모터 / 흡입력: 200W / 소비전력: 550W / [배터리] 분리형 / 리튬이온 (2개) / 충전시간: 3시간30분 / 사용시간: 1시간(개당) / [필터] 헤파필터 / 5단계여과 / [기능] 디스플레이표시창 / 프리볼트 / [구성] 바닥 / 물걸레 / 솔형 / 틈새 / 연장툴 / 거치대 / [부가] 먼지통용량: 0.5L / 알레르기인증(BAF) / 미세먼지인증(SLG) / 색상: 티탄+그레이 / 무게: 2.64kg / 크기(가로x세로x깊이): 250x1123x215mm', '597160'], ['LG전자 오브제컬렉션 코드제로 ThinQ A9S AO9571WAKT', '핸디/스틱청소기 / 핸디+스틱형 / 무선형 / 흡입+걸레겸용 / [성능] 2중터보싸이클론 / 스마트인버터모터 / 흡입력: 210W / 소비전력: 590W / [배터리] 분리형 / 리튬이온 (2개) / 충전시간: 4시간 / 사용시간: 1시간(개당) / [필터] 헤파필터 / H13급 / 5단계여과 / [기능] 자동물공급 / 배터리잔량표시 / IoT기능 / [구성] 바닥 / 물걸레 / 침구 / 솔형 / 틈새 / 올인원타워 / [부가] 알레르기인증(BAF) / 미세먼지인증(SLG) / 색상: 카밍베이지+딥그레이 / 무게: 2.6kg / 먼지통자동비움 / 크기(가로x세로x깊이): 250x1120x260mm', '1304990'], ['듀플렉스 DP-480VC', '핸디/스틱청소기 / 핸디형 / 무선형 / [구성] 솔형 / 틈새 / 거치대 / [부가] 색상: 화이트+그린 / 무게: 1.5kg / 건 습식 / 크기(가로x세로x깊이): 120x390x120mm', '19850'], ['삼성전자 제트 VS20T9213QACC1', '핸디/스틱청소기 / 핸디+스틱형 / 무선형 / 흡입+걸레겸용 / [성능] 싸이클론 / 인버터모터 / 흡입력: 200W / 소비전력: 550W / [배터리] 분리형 / 리튬이온 / 충전시간: 3시간30분 / 사용시간: 1시간(개당) / [필터] 헤파필터 / 5단계여과 / [기능] 디스플레이표시창 / 프리볼트 / [구성] 바닥 / 물걸레 / 솔형 / 틈새 / 거치대 / 청정스테이션 / [부가] 먼지통용량: 0.5L / 알레르기인증(BAF) / 미세먼지인증(SLG) / 색상: 티탄+그레이 / 무게: 2.64kg / 크기(가로x세로x깊이): 250x1123x215mm', '575505'], ['발뮤다 더 클리너 C01B', '핸디/스틱청소기 / 핸디+스틱형 / 무선형 / 흡입전용 / [성능] 싸이클론 / [배터리] 리튬이온 / 용량: 3000mAh / 충전시간: 6시간 / 사용시간: 30분(개당) / [기능] 프리볼트 / [구성] 바닥 / 틈새 / 거치대 / [부가] 먼지통용량: 0.13L / 색상: 화이트, 블랙 / 무게: 3.1kg / 크기(가로x세로x깊이): 300x1240x165mm', '499530'], ['비셀 크로스웨이브 3.0 맥스 2765N', '물걸레청소기 / 스틱형 / 물걸레+진공 / 무선형 / 배터리: 리튬이온 / 충전시간: 4시간 / 사용시간: 30분(개당) / [기능] 물분사 / 각도조절 / 배터리잔량표시 / 거치대 / 프리볼트 / 소비전력: 150W / [부가] 물통용량: 0.83L / 색상: 화이트+블루 / 무게: 5.2kg / 오토클리닝 / 크기(가로x세로x깊이): 260x1156x250mm', '749000'], ['베이스어스 C2 데스크 캡슐 청소기', '핸디/스틱청소기 / 핸디형 / 무선형 / 흡입전용 / [성능] 흡입력: 1000Pa / 소비전력: 6W / [배터리] 내장형 / 리튬이온 / 용량: 900mAh / 충전시간: 2시간30분 / 사용시간: 20분(개당) / [기능] 탁상용 / [부가] 색상: 핑크, 그린, 화이트, 블랙 / 크기(가로x세로x깊이): 60x110x60mm', '13900'], ['카처 FC5 코드리스', '물걸레청소기 / 스틱형 / 물걸레+진공 / 회전식 / 무선형 / 배터리: 리튬이온 / 충전시간: 4시간 / 사용시간: 20분(개당) / [기능] 배터리잔량표시 / [부가] 물통용량: 0.4L / 색상: 옐로우 / 무게: 4.4kg / 셀프크리닝 / 크기(가로x세로x깊이): 320x1220x270mm', '405380'], ['다이슨 V11 컴플리트 엑스트라', '핸디/스틱청소기 / 핸디+스틱형 / 무선형 / [성능] 싸이클론 / 흡입력: 220AW / [배터리] 충전시간: 4시간30분 / 사용시간: 1시간(개당) / [기능] 디스플레이표시창 / [구성] 하이토크 / 소프트롤러 / 미니모터 / 솔형 / 더스팅 / 틈새 / 매트리스 / 거치대 / 도킹스테이션 / [부가] 먼지통용량: 0.54L / 색상: 니켈블루 / 무게: 2.95kg / 크기(가로x세로x깊이): 261x1280x250mm', '893890'], ['머레이 충전식 무선 핸디형 청소기 HK-8030', '차량용청소기 / 무선 / 흡입력: 6,000Pa / 최대출력: 120W / 헤파필터 / 추가노즐: 틈새, 솔브러쉬 / 사용시간: 20분 / 충전시간: 3시간 / 크기: 65x370mm / 무게: 400g', '23900'], ['웍스 휴대용 차량용 충전 청소기 본체 WX030 + 배터리 (해외구매)', '차량용청소기 / 무선 / 흡입력: 10,000Pa / 최대출력: 180W / 3중필터 / 추가노즐: 틈새, 솔브러쉬 / 베어툴사양 / 2단 속도 조절 / 플렉시블 튜브 / 크기: 150x182x218mm / 무게: 1,400g', '160000'], ['코시 차량용 무선 청소기 VC3521AT', '차량용청소기 / 무선 / 흡입력: 4,000Pa / 최대출력: 60W / 헤파필터 / 추가노즐: 틈새, 솔브러쉬 / LED라이트 / 사용시간: 20분 / 충전시간: 3시간 / 크기: 59x240mm / 무게: 503g', '38340'], ['일렉파워전자 아토케어 EP450', '핸디/스틱청소기 / 핸디+스틱형 / 무선형 / 흡입전용 / [성능] BLDC모터 / 흡입력: 116AW / 흡입력: 15000Pa / 소비전력: 450W / [배터리] 리튬이온 / 사용시간: 42분(개당) / [필터] 헤파필터 / 3단계여과 / [기능] LED라이트 / 배터리잔량표시 / 프리볼트 / [구성] 바닥 / 침구 / 솔형 / 틈새 / [부가] 색상: 화이트 / 무게: 1.1kg / UV살균 / 거리감지센서 / 크기(가로x세로x깊이): 228x360x98mm', '158600'], ['일렉트로룩스 에르고라피도 클래식 ZB3501EB', '핸디/스틱청소기 / 핸디+스틱형 / 무선형 / 흡입전용 / [배터리] 리튬이온 / 충전시간: 4시간 / 사용시간: 30분(개당) / [필터] 4단계여과 / [기능] 브러쉬자동청소 / 셀프스탠딩 / LED라이트 / 배터리잔량표시 / [구성] 바닥 / 틈새 / 거치대 / [부가] 먼지통용량: 0.42L / 색상: 에보니블랙 / 무게: 2.45kg / 크기(가로x세로x깊이): 299x689x165mm', '120680'], ['유행코리아 더쎈 차량용 무선 청소기 V2', '차량용청소기 / 무선 / 흡입력: 6500Pa / 추가노즐: 솔브러쉬, 연장호스 / 사용시간: 30분 / 무게 : 1,040g', '78350'], ['삼성전자 제트 VS20R9044SB', '핸디/스틱청소기 / 핸디+스틱형 / 무선형 / [성능] 싸이클론 / 인버터모터 / 흡입력: 200W / 소비전력: 550W / [배터리] 분리형 / 리튬이온 / 충전시간: 3시간30분 / 사용시간: 1시간(개당) / [필터] 헤파필터 / 5단계여과 / [기능] 디스플레이표시창 / 프리볼트 / [구성] 바닥 / 침구 / 솔형 / 틈새 / 연장툴 / 거치대 / [부가] 먼지통용량: 0.5L / 알레르기인증(BAF) / 미세먼지인증(SLG) / 색상: 실버+블루 / 무게: 2.7kg / 크기(가로x세로x깊이): 250x1136x215mm', '517410'], ['신일전자 SDC-P4000HP', '물걸레청소기 / 스틱형 / 회전식 / 무선형 / 배터리: 리튬이온 / 충전시간: 3시간 / 사용시간: 30분(개당) / [기능] LED라이트 / 각도조절 / 셀프스탠딩 / 배터리잔량표시 / 소비전력: 80W / [부가] 색상: 네이비 / 무게: 3.5kg / 모터과열방지 / 패드: 극세사(벨크로형) / 크기(가로x세로x깊이): 410x1230x215mm', '108910'], ['대웅모닝컴 DWM-HV74N', '핸디/스틱청소기 / 핸디형 / 무선형 / [배터리] 리튬이온 / 충전시간: 6시간 / 사용시간: 15분(개당) / [구성] 바닥 / 솔형 / 틈새 / 거치대 / [부가] 무게: 0.75kg / 5단계각도조절 / 크기(가로x세로x깊이): 440x100x100mm', '34980'], ['톰슨 ESR-BH610', '핸디/스틱청소기 / 핸디형 / 무선형 / 흡입전용 / [성능] BLDC모터 / 흡입력: 15000Pa / 소비전력: 90W / [배터리] 리튬이온 / 용량: 2000mAh / 충전시간: 3시간30분 / 사용시간: 25분(개당) / [필터] 헤파필터 / H14급 / [구성] 바닥 / 솔형 / 틈새 / 패브릭 / 거치대 / [부가] 색상: 화이트, 레드, 그린 / 무게: 0.594kg / 크기(가로x세로x깊이): 237x1056x94mm', '89280'], ['툴앤툴 네오스틱 T1', '핸디/스틱청소기 / 핸디+스틱형 / 무선형 / [성능] 싸이클론 / 소비전력: 140W / [배터리] 분리형 / 리튬이온 / 충전시간: 4시간 / 사용시간: 30분(개당) / [필터] 헤파필터 / H13급 / [기능] LED라이트 / 프리볼트 / [구성] 바닥 / 솔형 / 거치대 / [부가] 무게: 2.35kg / 크기(가로x세로x깊이): 250x1210x220mm', '109000'], ['샤오미 VIOMI A9 V-HWVC12A', '핸디/스틱청소기 / 핸디+스틱형 / 무선형 / 흡입전용 / [성능] 싸이클론 / DC모터 / 흡입력: 120AW / 흡입력: 23000Pa / 소비전력: 400W / [배터리] 분리형 / 리튬이온 / 용량: 2500mAh / 사용시간: 1시간(개당) / [필터] 헤파필터 / H12급 / 5단계여과 / [기능] LED라이트 / 배터리잔량표시 / 프리볼트 / [구성] 바닥 / 침구 / 솔형 / 틈새 / 연장툴 / 거치대 / [부가] 먼지통용량: 0.4L / 색상: 블랙 / 무게: 1.54kg / 크기(가로x세로x깊이): 250x1250x235mm', '267870'], ['무궁화전자 바로바로 MHC-720', '핸디/스틱청소기 / 핸디+스틱형 / 무선형 / 물걸레 / 소비전력: 72W / [배터리] 니켈수소 / 충전시간: 5시간 / 사용시간: 18분(개당) / [필터] 헤파필터 / H12급 / 3단계여과 / [구성] 바닥 / 솔형 / 틈새 / [부가] 색상: 옐로우+블랙 / 무게: 2.9kg / 크기(가로x세로x깊이): 650x180x320mm', '71200'], ['삼성전자 제트 VS15T7037P1', '핸디/스틱청소기 / 핸디+스틱형 / 무선형 / 흡입+걸레겸용 / [성능] 싸이클론 / 인버터모터 / 흡입력: 150W / 소비전력: 410W / [배터리] 분리형 / 리튬이온 / 충전시간: 3시간30분 / 사용시간: 40분(개당) / [필터] 헤파필터 / 5단계여과 / [기능] 디스플레이표시창 / 프리볼트 / [구성] 바닥 / 물걸레 / 솔형 / 틈새 / 연장툴 / 거치대 / 청정스테이션 / [부가] 먼지통용량: 0.5L / 알레르기인증(BAF) / 미세먼지인증(SLG) / 색상: 화이트+민트 / 무게: 2.54kg', '500000']]\n"
     ]
    }
   ],
   "source": [
    "prod_data = []\n",
    "for prod_item in prod_items:\n",
    "    try: # ① 상품명 가져오기\n",
    "        title = prod_item.select('p.prod_name > a')[0].text.strip()\n",
    "    except:\n",
    "        title = ''\n",
    "    try: # ② 스펙 목록 가져오기\n",
    "        spec_list = prod_item.select('div.spec_list')[0].text.strip()\n",
    "    except:\n",
    "        spec_list = ''\n",
    "    try: # ③ 가격 정보 가져오기 \n",
    "        price = prod_item.select('li.rank_one > p.price_sect > a > strong')[0].text.strip().replace(\",\",\"\")\n",
    "    except:\n",
    "        price = 0\n",
    "    prod_data.append([title, spec_list, price])\n",
    "    \n",
    "print(len(prod_data))\n",
    "print(prod_data)"
   ]
  },
  {
   "cell_type": "code",
   "execution_count": 50,
   "metadata": {},
   "outputs": [],
   "source": [
    "def get_prod_items(prod_items):\n",
    "    prod_data = []\n",
    "    \n",
    "    for prod_item in prod_items:\n",
    "        # ① 상품명 가져오기\n",
    "        try:\n",
    "            title = prod_item.select('p.prod_name > a')[0].text.strip()\n",
    "        except:\n",
    "            title = ''\n",
    "        # ② 스펙 목록 가져오기\n",
    "        try: \n",
    "            spec_list = prod_item.select('div.spec_list')[0].text.strip()\n",
    "        except:\n",
    "            spec_list = ''\n",
    "        # ③ 가격 정보 가져오기 \n",
    "        try: \n",
    "            price = int(prod_item.select('li.rank_one > p.price_sect > a > strong')[0].text.strip().replace(\",\",\"\"))\n",
    "        except:\n",
    "            price = 0\n",
    "        prod_data.append([title, spec_list, price])\n",
    "        \n",
    "    return prod_data"
   ]
  },
  {
   "cell_type": "code",
   "execution_count": 51,
   "metadata": {},
   "outputs": [
    {
     "name": "stdout",
     "output_type": "stream",
     "text": [
      "44\n"
     ]
    }
   ],
   "source": [
    "prod_items = soup.select('div.main_prodlist > ul.product_list > li.prod_item')\n",
    "prod_data = get_prod_items(prod_items)\n",
    "print(len(prod_data))"
   ]
  },
  {
   "cell_type": "code",
   "execution_count": 52,
   "metadata": {},
   "outputs": [
    {
     "name": "stdout",
     "output_type": "stream",
     "text": [
      "http://search.danawa.com/dsearch.php?query=무선청소기&volumeType=allvs&page=1&limit=30&sort=saveDESC&list=list&boost=true&addDelivery=N&tab=goods&tab=goods\n"
     ]
    }
   ],
   "source": [
    "def get_search_page_url(keyword, page):\n",
    "    return 'http://search.danawa.com/dsearch.php?query={}&volumeType=allvs&page={}&limit=30&sort=saveDESC&list=list&boost=true&addDelivery=N&tab=goods&tab=goods'.format(keyword, page)\n",
    "\n",
    "keyword = '무선청소기'\n",
    "page = 1\n",
    "url = get_search_page_url(keyword, page)\n",
    "print(url)"
   ]
  },
  {
   "cell_type": "code",
   "execution_count": 53,
   "metadata": {},
   "outputs": [
    {
     "name": "stderr",
     "output_type": "stream",
     "text": [
      "<ipython-input-53-afe5f87ab986>:4: TqdmDeprecationWarning: This function will be removed in tqdm==5.0.0\n",
      "Please use `tqdm.notebook.tqdm` instead of `tqdm.tqdm_notebook`\n",
      "  for page in tqdm_notebook(range(1, total_page + 1)):\n"
     ]
    },
    {
     "data": {
      "application/vnd.jupyter.widget-view+json": {
       "model_id": "deb6c8d2a8214d659b491a658fe75cdf",
       "version_major": 2,
       "version_minor": 0
      },
      "text/plain": [
       "HBox(children=(HTML(value=''), FloatProgress(value=0.0, max=10.0), HTML(value='')))"
      ]
     },
     "metadata": {},
     "output_type": "display_data"
    },
    {
     "name": "stdout",
     "output_type": "stream",
     "text": [
      "\n"
     ]
    }
   ],
   "source": [
    "import time\n",
    "from tqdm import tqdm_notebook\n",
    "total_page = 10\n",
    "for page in tqdm_notebook(range(1, total_page + 1)):\n",
    "    time.sleep(5)"
   ]
  },
  {
   "cell_type": "code",
   "execution_count": 54,
   "metadata": {},
   "outputs": [
    {
     "name": "stderr",
     "output_type": "stream",
     "text": [
      "<ipython-input-54-d5838cc6f609>:12: TqdmDeprecationWarning: This function will be removed in tqdm==5.0.0\n",
      "Please use `tqdm.notebook.tqdm` instead of `tqdm.tqdm_notebook`\n",
      "  for page in tqdm_notebook(range(1, total_page + 1)):\n"
     ]
    },
    {
     "data": {
      "application/vnd.jupyter.widget-view+json": {
       "model_id": "000e13b6126c47648b8ca739fa3dfeb4",
       "version_major": 2,
       "version_minor": 0
      },
      "text/plain": [
       "HBox(children=(HTML(value=''), FloatProgress(value=0.0, max=10.0), HTML(value='')))"
      ]
     },
     "metadata": {},
     "output_type": "display_data"
    },
    {
     "name": "stdout",
     "output_type": "stream",
     "text": [
      "\n"
     ]
    }
   ],
   "source": [
    "from selenium import webdriver\n",
    "import time\n",
    "from bs4 import BeautifulSoup\n",
    "from tqdm import tqdm_notebook\n",
    "\n",
    "driver = webdriver.Chrome('chromedriver.exe')\n",
    "driver.implicitly_wait(3)\n",
    "\n",
    "keyword = '무선청소기'\n",
    "total_page = 10\n",
    "prod_data_total = []\n",
    "for page in tqdm_notebook(range(1, total_page + 1)):\n",
    "    # ① 검색 페이지 이동\n",
    "    url = get_search_page_url(keyword, page)\n",
    "    driver.get(url)\n",
    "    time.sleep(5)\n",
    "    \n",
    "    # ② 현재 페이지의 HTML 정보 가져오기\n",
    "    html = driver.page_source\n",
    "    soup = BeautifulSoup(html, 'html.parser')\n",
    "    \n",
    "    # ③ 상품 정보 추출\n",
    "    prod_items = soup.select('div#productListArea > div.main_prodlist > ul.product_list > li.prod_item')\n",
    "    prod_item_list = get_prod_items(prod_items)\n",
    "    \n",
    "    # ④ 추출 데이터 저장\n",
    "    prod_data_total = prod_data_total + prod_item_list"
   ]
  },
  {
   "cell_type": "code",
   "execution_count": 55,
   "metadata": {},
   "outputs": [],
   "source": [
    "import pandas as pd\n",
    "data = pd.DataFrame(prod_data_total)\n",
    "data.columns = ['상품명', '스펙 목록', '가격']\n",
    "data.to_excel('1_danawa_crawling_result.xlsx', index = False)"
   ]
  },
  {
   "cell_type": "markdown",
   "metadata": {},
   "source": [
    "### 데이터 전처리"
   ]
  },
  {
   "cell_type": "code",
   "execution_count": 67,
   "metadata": {},
   "outputs": [
    {
     "name": "stdout",
     "output_type": "stream",
     "text": [
      "<class 'pandas.core.frame.DataFrame'>\n",
      "RangeIndex: 400 entries, 0 to 399\n",
      "Data columns (total 3 columns):\n",
      " #   Column  Non-Null Count  Dtype \n",
      "---  ------  --------------  ----- \n",
      " 0   상품명     400 non-null    object\n",
      " 1   스펙 목록   400 non-null    object\n",
      " 2   가격      400 non-null    int64 \n",
      "dtypes: int64(1), object(2)\n",
      "memory usage: 9.5+ KB\n"
     ]
    },
    {
     "data": {
      "text/html": [
       "<div>\n",
       "<style scoped>\n",
       "    .dataframe tbody tr th:only-of-type {\n",
       "        vertical-align: middle;\n",
       "    }\n",
       "\n",
       "    .dataframe tbody tr th {\n",
       "        vertical-align: top;\n",
       "    }\n",
       "\n",
       "    .dataframe thead th {\n",
       "        text-align: right;\n",
       "    }\n",
       "</style>\n",
       "<table border=\"1\" class=\"dataframe\">\n",
       "  <thead>\n",
       "    <tr style=\"text-align: right;\">\n",
       "      <th></th>\n",
       "      <th>상품명</th>\n",
       "      <th>스펙 목록</th>\n",
       "      <th>가격</th>\n",
       "    </tr>\n",
       "  </thead>\n",
       "  <tbody>\n",
       "    <tr>\n",
       "      <th>0</th>\n",
       "      <td>LG전자 오브제컬렉션 코드제로 ThinQ A9S AO9571</td>\n",
       "      <td>핸디/스틱청소기 / 핸디+스틱형 / 무선형 / 흡입+걸레겸용 / [성능] 2중터보싸...</td>\n",
       "      <td>1202000</td>\n",
       "    </tr>\n",
       "    <tr>\n",
       "      <th>1</th>\n",
       "      <td>샤오미 CLEANFLY 차량용 무선 청소기 3세대 (해외구매)</td>\n",
       "      <td>차량용청소기 / 무선 / 흡입력: 16,800Pa / 최대출력: 120W / 헤파필...</td>\n",
       "      <td>50960</td>\n",
       "    </tr>\n",
       "    <tr>\n",
       "      <th>2</th>\n",
       "      <td>샤오미 미지아 차량용 핸디 무선 청소기 (해외구매)</td>\n",
       "      <td>차량용청소기 / 무선 / 흡입력: 13,000Pa / 최대출력: 120W / 헤파필...</td>\n",
       "      <td>35500</td>\n",
       "    </tr>\n",
       "    <tr>\n",
       "      <th>3</th>\n",
       "      <td>샤오미 드리미 V10</td>\n",
       "      <td>핸디/스틱청소기 / 핸디+스틱형 / 무선형 / 흡입전용 / [성능] 멀티싸이클론 /...</td>\n",
       "      <td>138270</td>\n",
       "    </tr>\n",
       "    <tr>\n",
       "      <th>4</th>\n",
       "      <td>LG전자 코드제로 A9 A9100S</td>\n",
       "      <td>핸디/스틱청소기 / 핸디+스틱형 / 무선형 / 흡입+걸레겸용 / [성능] 2중터보싸...</td>\n",
       "      <td>473837</td>\n",
       "    </tr>\n",
       "  </tbody>\n",
       "</table>\n",
       "</div>"
      ],
      "text/plain": [
       "                                  상품명  \\\n",
       "0   LG전자 오브제컬렉션 코드제로 ThinQ A9S AO9571   \n",
       "1  샤오미 CLEANFLY 차량용 무선 청소기 3세대 (해외구매)   \n",
       "2        샤오미 미지아 차량용 핸디 무선 청소기 (해외구매)   \n",
       "3                         샤오미 드리미 V10   \n",
       "4                 LG전자 코드제로 A9 A9100S   \n",
       "\n",
       "                                               스펙 목록       가격  \n",
       "0  핸디/스틱청소기 / 핸디+스틱형 / 무선형 / 흡입+걸레겸용 / [성능] 2중터보싸...  1202000  \n",
       "1  차량용청소기 / 무선 / 흡입력: 16,800Pa / 최대출력: 120W / 헤파필...    50960  \n",
       "2  차량용청소기 / 무선 / 흡입력: 13,000Pa / 최대출력: 120W / 헤파필...    35500  \n",
       "3  핸디/스틱청소기 / 핸디+스틱형 / 무선형 / 흡입전용 / [성능] 멀티싸이클론 /...   138270  \n",
       "4  핸디/스틱청소기 / 핸디+스틱형 / 무선형 / 흡입+걸레겸용 / [성능] 2중터보싸...   473837  "
      ]
     },
     "execution_count": 67,
     "metadata": {},
     "output_type": "execute_result"
    }
   ],
   "source": [
    "import pandas as pd\n",
    "data = pd.read_excel('1_danawa_crawling_result.xlsx')\n",
    "data.info()\n",
    "data.head()"
   ]
  },
  {
   "cell_type": "code",
   "execution_count": 68,
   "metadata": {
    "scrolled": true
   },
   "outputs": [
    {
     "data": {
      "text/plain": [
       "0     LG전자 오브제컬렉션 코드제로 ThinQ A9S AO9571\n",
       "1    샤오미 CLEANFLY 차량용 무선 청소기 3세대 (해외구매)\n",
       "2          샤오미 미지아 차량용 핸디 무선 청소기 (해외구매)\n",
       "3                           샤오미 드리미 V10\n",
       "4                   LG전자 코드제로 A9 A9100S\n",
       "5               삼성전자 비스포크 제트 VS20A956A3\n",
       "6                        에코백스 디봇 오즈모 T9\n",
       "7             LG전자 코드제로 ThinQ A9S A9470\n",
       "8                  샤오미 TROUVER POWER 11\n",
       "9              일렉트로룩스 WELL Q6 WQ61-1OGG\n",
       "Name: 상품명, dtype: object"
      ]
     },
     "execution_count": 68,
     "metadata": {},
     "output_type": "execute_result"
    }
   ],
   "source": [
    "data['상품명'][:10]"
   ]
  },
  {
   "cell_type": "code",
   "execution_count": 69,
   "metadata": {},
   "outputs": [],
   "source": [
    "data = data.dropna(axis=0)"
   ]
  },
  {
   "cell_type": "code",
   "execution_count": 70,
   "metadata": {},
   "outputs": [
    {
     "name": "stdout",
     "output_type": "stream",
     "text": [
      "['LG전자', '오브제컬렉션 코드제로 ThinQ A9S AO9571']\n"
     ]
    }
   ],
   "source": [
    "title = \"LG전자 오브제컬렉션 코드제로 ThinQ A9S AO9571\"\n",
    "info = title.split(' ',1)\n",
    "print(info)"
   ]
  },
  {
   "cell_type": "code",
   "execution_count": 71,
   "metadata": {},
   "outputs": [],
   "source": [
    "# 중간중간 상품명 오류와 빈칸은 직접 제거 전처리함\n",
    "company_list = []\n",
    "product_list = []\n",
    "for title in data['상품명']:\n",
    "    title_info = title.split(' ', 1)\n",
    "    company_name = title_info[0]\n",
    "    product_name = title_info[1]\n",
    "    company_list.append(company_name)\n",
    "    product_list.append(product_name)"
   ]
  },
  {
   "cell_type": "code",
   "execution_count": 72,
   "metadata": {},
   "outputs": [
    {
     "data": {
      "text/plain": [
       "['핸디/스틱청소기',\n",
       " '핸디+스틱형',\n",
       " '무선형',\n",
       " '흡입+걸레겸용',\n",
       " '[성능] 2중터보싸이클론',\n",
       " '스마트인버터모터',\n",
       " '흡입력: 210W',\n",
       " '소비전력: 590W',\n",
       " '[배터리] 분리형',\n",
       " '리튬이온 (2개)',\n",
       " '충전시간: 4시간',\n",
       " '사용시간: 1시간(개당)',\n",
       " '[필터] 헤파필터',\n",
       " 'H13급',\n",
       " '5단계여과',\n",
       " '[기능] 자동물공급',\n",
       " '배터리잔량표시',\n",
       " 'IoT기능',\n",
       " '[구성] 바닥',\n",
       " '물걸레',\n",
       " '침구',\n",
       " '솔형',\n",
       " '틈새',\n",
       " '올인원타워',\n",
       " '[부가] 알레르기인증(BAF)',\n",
       " '미세먼지인증(SLG)',\n",
       " '색상: 카밍베이지',\n",
       " '무게: 2.6kg',\n",
       " '먼지통자동비움',\n",
       " '크기(가로x세로x깊이): 250x1120x260mm']"
      ]
     },
     "execution_count": 72,
     "metadata": {},
     "output_type": "execute_result"
    }
   ],
   "source": [
    "spec_list = data['스펙 목록'][0].split(' / ')\n",
    "spec_list"
   ]
  },
  {
   "cell_type": "code",
   "execution_count": 73,
   "metadata": {},
   "outputs": [
    {
     "data": {
      "text/plain": [
       "'핸디/스틱청소기'"
      ]
     },
     "execution_count": 73,
     "metadata": {},
     "output_type": "execute_result"
    }
   ],
   "source": [
    "category = spec_list[0] \n",
    "category"
   ]
  },
  {
   "cell_type": "code",
   "execution_count": 74,
   "metadata": {},
   "outputs": [
    {
     "name": "stdout",
     "output_type": "stream",
     "text": [
      "사용시간: 1시간(개당)\n",
      "흡입력: 210W\n"
     ]
    }
   ],
   "source": [
    "for spec in spec_list:\n",
    "    if '사용시간' in spec: \n",
    "         use_time_spec = spec \n",
    "    elif '흡입력' in spec:\n",
    "        suction_spec = spec\n",
    "        \n",
    "print(use_time_spec)\n",
    "print(suction_spec)"
   ]
  },
  {
   "cell_type": "code",
   "execution_count": 75,
   "metadata": {},
   "outputs": [
    {
     "name": "stdout",
     "output_type": "stream",
     "text": [
      "1시간(개당)\n",
      "210W\n"
     ]
    }
   ],
   "source": [
    "use_time_value = use_time_spec.split(' ')[1].strip() \n",
    "suction_value = suction_spec.split(' ')[1].strip()\n",
    "\n",
    "print(use_time_value)\n",
    "print(suction_value)"
   ]
  },
  {
   "cell_type": "code",
   "execution_count": 76,
   "metadata": {},
   "outputs": [],
   "source": [
    "category_list = []\n",
    "use_time_list = []\n",
    "suction_list = [] \n",
    "\n",
    "for spec_data in data['스펙 목록']:\n",
    "    # ' / ' 기준으로 스펙 분리하기 \n",
    "    spec_list = spec_data.split(' / ')\n",
    "    \n",
    "    # 카테고리 추출하기\n",
    "    category = spec_list[0] \n",
    "    category_list.append(category)\n",
    "    \n",
    "    # 사용시간, 흡입력 추출 \n",
    "    ## 사용시간, 흡입력 정보가 없는 제품을 위해 변수를 생성 \n",
    "    use_time_value = None \n",
    "    suction_value = None \n",
    "    \n",
    "    ## spec_list의 각 원소에서 사용시간, 흡입력 수치 추출\n",
    "    for spec in spec_list:\n",
    "        if '사용시간' in spec: \n",
    "            use_time_value = spec.split(' ')[1].strip()             \n",
    "        if '흡입력' in spec:\n",
    "            suction_value = spec.split(' ')[1].strip() \n",
    "    use_time_list.append(use_time_value)\n",
    "    suction_list.append(suction_value)"
   ]
  },
  {
   "cell_type": "code",
   "execution_count": 77,
   "metadata": {},
   "outputs": [
    {
     "name": "stdout",
     "output_type": "stream",
     "text": [
      "카테고리 400 ['핸디/스틱청소기', '차량용청소기', '차량용청소기', '핸디/스틱청소기', '핸디/스틱청소기']\n",
      "사용시간 400 ['1시간(개당)', '25분', '9~30분', '1시간(개당)', '40분(개당)']\n",
      "흡입력 400 ['210W', '16,800Pa', '13,000Pa', '22000Pa', '140W']\n"
     ]
    }
   ],
   "source": [
    "print(\"카테고리\", len(category_list), category_list[0:5])\n",
    "print(\"사용시간\", len(use_time_list), use_time_list[0:5])\n",
    "print(\"흡입력\", len(suction_list), suction_list[0:5])"
   ]
  },
  {
   "cell_type": "markdown",
   "metadata": {},
   "source": [
    "### 사용시간, 흡입력 단위 통일"
   ]
  },
  {
   "cell_type": "code",
   "execution_count": 78,
   "metadata": {},
   "outputs": [],
   "source": [
    "def convert_time_minute(time):\n",
    "    try:\n",
    "        if '시간' in time:\n",
    "            hour = time.split('시간')[0]\n",
    "            if '분' in time:\n",
    "                minute = time.split('시간')[-1].split('분')[0]\n",
    "            else:\n",
    "                minute = 0\n",
    "        else: \n",
    "            hour = 0\n",
    "            minute = time.split('분')[0]\n",
    "        return int(hour)*60 + int(minute)\n",
    "    except:\n",
    "        return None"
   ]
  },
  {
   "cell_type": "code",
   "execution_count": 79,
   "metadata": {},
   "outputs": [
    {
     "name": "stdout",
     "output_type": "stream",
     "text": [
      "40분 = 40\n",
      "4분 = 4\n",
      "1시간 = 60\n",
      "3시간30분 = 210\n",
      "4시간 = 240\n"
     ]
    }
   ],
   "source": [
    "times = [\"40분\", \"4분\", \"1시간\", \"3시간30분\", \"4시간\"]\n",
    "for time in times:\n",
    "    time_value = convert_time_minute(time)\n",
    "    print(time, \"=\", time_value)"
   ]
  },
  {
   "cell_type": "code",
   "execution_count": 80,
   "metadata": {},
   "outputs": [
    {
     "name": "stdout",
     "output_type": "stream",
     "text": [
      "400\n",
      "[60, 25, None, 60, 40, 60, 180, 60, 60, 45]\n"
     ]
    }
   ],
   "source": [
    "new_use_time_list = []\n",
    "for time in use_time_list:\n",
    "    value = convert_time_minute(time)\n",
    "    new_use_time_list.append(value)\n",
    "    \n",
    "print(len(new_use_time_list))\n",
    "print(new_use_time_list[0:10])"
   ]
  },
  {
   "cell_type": "code",
   "execution_count": 83,
   "metadata": {},
   "outputs": [],
   "source": [
    "def get_suction(value):\n",
    "    try:\n",
    "        value = value.upper()\n",
    "        if \"AW\" in value or \"W\" in value:\n",
    "            result = value.replace(\"A\", \"\").replace(\"W\",\"\")\n",
    "            result = int(result.replace(\",\",\"\"))\n",
    "        elif \"PA\" in value:\n",
    "            result = value.replace(\"PA\",\"\")\n",
    "            result = int(result.replace(\",\",\"\"))/100\n",
    "        else:\n",
    "            result = None\n",
    "        return result\n",
    "    except:\n",
    "        return None"
   ]
  },
  {
   "cell_type": "code",
   "execution_count": 84,
   "metadata": {},
   "outputs": [
    {
     "name": "stdout",
     "output_type": "stream",
     "text": [
      "400\n",
      "[210, 168.0, 130.0, 220.0, 140, 210, None, None, None, None]\n"
     ]
    }
   ],
   "source": [
    "new_suction_list = []\n",
    "for power in suction_list:\n",
    "    value = get_suction (power)\n",
    "    new_suction_list.append(value)\n",
    "\n",
    "print(len(new_suction_list))\n",
    "print(new_suction_list[0:10])"
   ]
  },
  {
   "cell_type": "code",
   "execution_count": 87,
   "metadata": {},
   "outputs": [
    {
     "data": {
      "text/html": [
       "<div>\n",
       "<style scoped>\n",
       "    .dataframe tbody tr th:only-of-type {\n",
       "        vertical-align: middle;\n",
       "    }\n",
       "\n",
       "    .dataframe tbody tr th {\n",
       "        vertical-align: top;\n",
       "    }\n",
       "\n",
       "    .dataframe thead th {\n",
       "        text-align: right;\n",
       "    }\n",
       "</style>\n",
       "<table border=\"1\" class=\"dataframe\">\n",
       "  <thead>\n",
       "    <tr style=\"text-align: right;\">\n",
       "      <th></th>\n",
       "      <th>카테고리</th>\n",
       "      <th>회사명</th>\n",
       "      <th>제품</th>\n",
       "      <th>가격</th>\n",
       "      <th>사용시간</th>\n",
       "      <th>흡입력</th>\n",
       "    </tr>\n",
       "  </thead>\n",
       "  <tbody>\n",
       "    <tr>\n",
       "      <th>0</th>\n",
       "      <td>핸디/스틱청소기</td>\n",
       "      <td>LG전자</td>\n",
       "      <td>오브제컬렉션 코드제로 ThinQ A9S AO9571</td>\n",
       "      <td>1202000</td>\n",
       "      <td>60.0</td>\n",
       "      <td>210.0</td>\n",
       "    </tr>\n",
       "    <tr>\n",
       "      <th>1</th>\n",
       "      <td>차량용청소기</td>\n",
       "      <td>샤오미</td>\n",
       "      <td>CLEANFLY 차량용 무선 청소기 3세대 (해외구매)</td>\n",
       "      <td>50960</td>\n",
       "      <td>25.0</td>\n",
       "      <td>168.0</td>\n",
       "    </tr>\n",
       "    <tr>\n",
       "      <th>2</th>\n",
       "      <td>차량용청소기</td>\n",
       "      <td>샤오미</td>\n",
       "      <td>미지아 차량용 핸디 무선 청소기 (해외구매)</td>\n",
       "      <td>35500</td>\n",
       "      <td>NaN</td>\n",
       "      <td>130.0</td>\n",
       "    </tr>\n",
       "    <tr>\n",
       "      <th>3</th>\n",
       "      <td>핸디/스틱청소기</td>\n",
       "      <td>샤오미</td>\n",
       "      <td>드리미 V10</td>\n",
       "      <td>138270</td>\n",
       "      <td>60.0</td>\n",
       "      <td>220.0</td>\n",
       "    </tr>\n",
       "    <tr>\n",
       "      <th>4</th>\n",
       "      <td>핸디/스틱청소기</td>\n",
       "      <td>LG전자</td>\n",
       "      <td>코드제로 A9 A9100S</td>\n",
       "      <td>473837</td>\n",
       "      <td>40.0</td>\n",
       "      <td>140.0</td>\n",
       "    </tr>\n",
       "  </tbody>\n",
       "</table>\n",
       "</div>"
      ],
      "text/plain": [
       "       카테고리   회사명                              제품       가격  사용시간    흡입력\n",
       "0  핸디/스틱청소기  LG전자    오브제컬렉션 코드제로 ThinQ A9S AO9571  1202000  60.0  210.0\n",
       "1    차량용청소기   샤오미  CLEANFLY 차량용 무선 청소기 3세대 (해외구매)    50960  25.0  168.0\n",
       "2    차량용청소기   샤오미        미지아 차량용 핸디 무선 청소기 (해외구매)    35500   NaN  130.0\n",
       "3  핸디/스틱청소기   샤오미                         드리미 V10   138270  60.0  220.0\n",
       "4  핸디/스틱청소기  LG전자                  코드제로 A9 A9100S   473837  40.0  140.0"
      ]
     },
     "execution_count": 87,
     "metadata": {},
     "output_type": "execute_result"
    }
   ],
   "source": [
    "pd_data = pd.DataFrame()\n",
    "pd_data['카테고리'] = category_list\n",
    "pd_data['회사명'] = company_list\n",
    "pd_data['제품'] = product_list\n",
    "pd_data['가격'] = data['가격']\n",
    "pd_data['사용시간'] = new_use_time_list\n",
    "pd_data['흡입력'] = new_suction_list\n",
    "pd_data.head()"
   ]
  },
  {
   "cell_type": "code",
   "execution_count": 88,
   "metadata": {},
   "outputs": [
    {
     "data": {
      "text/plain": [
       "핸디/스틱청소기    291\n",
       "차량용청소기       37\n",
       "물걸레청소기       37\n",
       "욕실청소기        21\n",
       "침구청소기         9\n",
       "로봇청소기         4\n",
       "업소용청소기        1\n",
       "Name: 카테고리, dtype: int64"
      ]
     },
     "execution_count": 88,
     "metadata": {},
     "output_type": "execute_result"
    }
   ],
   "source": [
    "pd_data['카테고리'].value_counts()"
   ]
  },
  {
   "cell_type": "code",
   "execution_count": 89,
   "metadata": {},
   "outputs": [
    {
     "data": {
      "text/plain": [
       "291"
      ]
     },
     "execution_count": 89,
     "metadata": {},
     "output_type": "execute_result"
    }
   ],
   "source": [
    "pd_data_final = pd_data[pd_data['카테고리'].isin(['핸디/스틱청소기'])]\n",
    "len(pd_data_final)"
   ]
  },
  {
   "cell_type": "code",
   "execution_count": 90,
   "metadata": {},
   "outputs": [],
   "source": [
    "pd_data_final.to_excel('2_danawa_data_final.xlsx', index = False)"
   ]
  },
  {
   "cell_type": "markdown",
   "metadata": {},
   "source": [
    "### 모델별 비교분석"
   ]
  },
  {
   "cell_type": "code",
   "execution_count": 91,
   "metadata": {},
   "outputs": [
    {
     "data": {
      "text/html": [
       "<div>\n",
       "<style scoped>\n",
       "    .dataframe tbody tr th:only-of-type {\n",
       "        vertical-align: middle;\n",
       "    }\n",
       "\n",
       "    .dataframe tbody tr th {\n",
       "        vertical-align: top;\n",
       "    }\n",
       "\n",
       "    .dataframe thead th {\n",
       "        text-align: right;\n",
       "    }\n",
       "</style>\n",
       "<table border=\"1\" class=\"dataframe\">\n",
       "  <thead>\n",
       "    <tr style=\"text-align: right;\">\n",
       "      <th></th>\n",
       "      <th>카테고리</th>\n",
       "      <th>회사명</th>\n",
       "      <th>제품</th>\n",
       "      <th>가격</th>\n",
       "      <th>사용시간</th>\n",
       "      <th>흡입력</th>\n",
       "    </tr>\n",
       "  </thead>\n",
       "  <tbody>\n",
       "    <tr>\n",
       "      <th>0</th>\n",
       "      <td>핸디/스틱청소기</td>\n",
       "      <td>LG전자</td>\n",
       "      <td>오브제컬렉션 코드제로 ThinQ A9S AO9571</td>\n",
       "      <td>1202000</td>\n",
       "      <td>60.0</td>\n",
       "      <td>210.0</td>\n",
       "    </tr>\n",
       "    <tr>\n",
       "      <th>1</th>\n",
       "      <td>핸디/스틱청소기</td>\n",
       "      <td>샤오미</td>\n",
       "      <td>드리미 V10</td>\n",
       "      <td>138270</td>\n",
       "      <td>60.0</td>\n",
       "      <td>220.0</td>\n",
       "    </tr>\n",
       "    <tr>\n",
       "      <th>2</th>\n",
       "      <td>핸디/스틱청소기</td>\n",
       "      <td>LG전자</td>\n",
       "      <td>코드제로 A9 A9100S</td>\n",
       "      <td>473837</td>\n",
       "      <td>40.0</td>\n",
       "      <td>140.0</td>\n",
       "    </tr>\n",
       "    <tr>\n",
       "      <th>3</th>\n",
       "      <td>핸디/스틱청소기</td>\n",
       "      <td>삼성전자</td>\n",
       "      <td>비스포크 제트 VS20A956A3</td>\n",
       "      <td>719380</td>\n",
       "      <td>60.0</td>\n",
       "      <td>210.0</td>\n",
       "    </tr>\n",
       "    <tr>\n",
       "      <th>4</th>\n",
       "      <td>핸디/스틱청소기</td>\n",
       "      <td>LG전자</td>\n",
       "      <td>코드제로 ThinQ A9S A9470</td>\n",
       "      <td>764390</td>\n",
       "      <td>60.0</td>\n",
       "      <td>NaN</td>\n",
       "    </tr>\n",
       "  </tbody>\n",
       "</table>\n",
       "</div>"
      ],
      "text/plain": [
       "       카테고리   회사명                            제품       가격  사용시간    흡입력\n",
       "0  핸디/스틱청소기  LG전자  오브제컬렉션 코드제로 ThinQ A9S AO9571  1202000  60.0  210.0\n",
       "1  핸디/스틱청소기   샤오미                       드리미 V10   138270  60.0  220.0\n",
       "2  핸디/스틱청소기  LG전자                코드제로 A9 A9100S   473837  40.0  140.0\n",
       "3  핸디/스틱청소기  삼성전자            비스포크 제트 VS20A956A3   719380  60.0  210.0\n",
       "4  핸디/스틱청소기  LG전자          코드제로 ThinQ A9S A9470   764390  60.0    NaN"
      ]
     },
     "execution_count": 91,
     "metadata": {},
     "output_type": "execute_result"
    }
   ],
   "source": [
    "import pandas as pd\n",
    "danawa_data = pd.read_excel('2_danawa_data_final.xlsx')\n",
    "danawa_data.head()"
   ]
  },
  {
   "cell_type": "code",
   "execution_count": 92,
   "metadata": {},
   "outputs": [
    {
     "data": {
      "text/html": [
       "<div>\n",
       "<style scoped>\n",
       "    .dataframe tbody tr th:only-of-type {\n",
       "        vertical-align: middle;\n",
       "    }\n",
       "\n",
       "    .dataframe tbody tr th {\n",
       "        vertical-align: top;\n",
       "    }\n",
       "\n",
       "    .dataframe thead th {\n",
       "        text-align: right;\n",
       "    }\n",
       "</style>\n",
       "<table border=\"1\" class=\"dataframe\">\n",
       "  <thead>\n",
       "    <tr style=\"text-align: right;\">\n",
       "      <th></th>\n",
       "      <th>카테고리</th>\n",
       "      <th>회사명</th>\n",
       "      <th>제품</th>\n",
       "      <th>가격</th>\n",
       "      <th>사용시간</th>\n",
       "      <th>흡입력</th>\n",
       "    </tr>\n",
       "  </thead>\n",
       "  <tbody>\n",
       "    <tr>\n",
       "      <th>137</th>\n",
       "      <td>핸디/스틱청소기</td>\n",
       "      <td>리하스</td>\n",
       "      <td>LH20</td>\n",
       "      <td>299000</td>\n",
       "      <td>120.0</td>\n",
       "      <td>330.0</td>\n",
       "    </tr>\n",
       "    <tr>\n",
       "      <th>231</th>\n",
       "      <td>핸디/스틱청소기</td>\n",
       "      <td>퍼피유</td>\n",
       "      <td>T12R</td>\n",
       "      <td>279210</td>\n",
       "      <td>60.0</td>\n",
       "      <td>290.0</td>\n",
       "    </tr>\n",
       "    <tr>\n",
       "      <th>31</th>\n",
       "      <td>핸디/스틱청소기</td>\n",
       "      <td>DIBEA</td>\n",
       "      <td>차이슨 ALLNEW29000</td>\n",
       "      <td>248000</td>\n",
       "      <td>48.0</td>\n",
       "      <td>290.0</td>\n",
       "    </tr>\n",
       "    <tr>\n",
       "      <th>210</th>\n",
       "      <td>핸디/스틱청소기</td>\n",
       "      <td>작스제로</td>\n",
       "      <td>XAX 0</td>\n",
       "      <td>234870</td>\n",
       "      <td>40.0</td>\n",
       "      <td>290.0</td>\n",
       "    </tr>\n",
       "    <tr>\n",
       "      <th>188</th>\n",
       "      <td>핸디/스틱청소기</td>\n",
       "      <td>캐치웰</td>\n",
       "      <td>NEW F8</td>\n",
       "      <td>188060</td>\n",
       "      <td>25.0</td>\n",
       "      <td>290.0</td>\n",
       "    </tr>\n",
       "  </tbody>\n",
       "</table>\n",
       "</div>"
      ],
      "text/plain": [
       "         카테고리    회사명               제품      가격   사용시간    흡입력\n",
       "137  핸디/스틱청소기    리하스             LH20  299000  120.0  330.0\n",
       "231  핸디/스틱청소기    퍼피유             T12R  279210   60.0  290.0\n",
       "31   핸디/스틱청소기  DIBEA  차이슨 ALLNEW29000  248000   48.0  290.0\n",
       "210  핸디/스틱청소기   작스제로            XAX 0  234870   40.0  290.0\n",
       "188  핸디/스틱청소기    캐치웰           NEW F8  188060   25.0  290.0"
      ]
     },
     "execution_count": 92,
     "metadata": {},
     "output_type": "execute_result"
    }
   ],
   "source": [
    "top_list = danawa_data.sort_values([\"흡입력\"], ascending = False)\n",
    "top_list.head()"
   ]
  },
  {
   "cell_type": "code",
   "execution_count": 93,
   "metadata": {},
   "outputs": [
    {
     "data": {
      "text/html": [
       "<div>\n",
       "<style scoped>\n",
       "    .dataframe tbody tr th:only-of-type {\n",
       "        vertical-align: middle;\n",
       "    }\n",
       "\n",
       "    .dataframe tbody tr th {\n",
       "        vertical-align: top;\n",
       "    }\n",
       "\n",
       "    .dataframe thead th {\n",
       "        text-align: right;\n",
       "    }\n",
       "</style>\n",
       "<table border=\"1\" class=\"dataframe\">\n",
       "  <thead>\n",
       "    <tr style=\"text-align: right;\">\n",
       "      <th></th>\n",
       "      <th>카테고리</th>\n",
       "      <th>회사명</th>\n",
       "      <th>제품</th>\n",
       "      <th>가격</th>\n",
       "      <th>사용시간</th>\n",
       "      <th>흡입력</th>\n",
       "    </tr>\n",
       "  </thead>\n",
       "  <tbody>\n",
       "    <tr>\n",
       "      <th>137</th>\n",
       "      <td>핸디/스틱청소기</td>\n",
       "      <td>리하스</td>\n",
       "      <td>LH20</td>\n",
       "      <td>299000</td>\n",
       "      <td>120.0</td>\n",
       "      <td>330.0</td>\n",
       "    </tr>\n",
       "    <tr>\n",
       "      <th>123</th>\n",
       "      <td>핸디/스틱청소기</td>\n",
       "      <td>샤오미</td>\n",
       "      <td>드리미 V12</td>\n",
       "      <td>318990</td>\n",
       "      <td>90.0</td>\n",
       "      <td>270.0</td>\n",
       "    </tr>\n",
       "    <tr>\n",
       "      <th>226</th>\n",
       "      <td>핸디/스틱청소기</td>\n",
       "      <td>샤오미</td>\n",
       "      <td>드리미 T30</td>\n",
       "      <td>429950</td>\n",
       "      <td>90.0</td>\n",
       "      <td>270.0</td>\n",
       "    </tr>\n",
       "    <tr>\n",
       "      <th>141</th>\n",
       "      <td>핸디/스틱청소기</td>\n",
       "      <td>샤오미</td>\n",
       "      <td>드리미 V11</td>\n",
       "      <td>242950</td>\n",
       "      <td>90.0</td>\n",
       "      <td>250.0</td>\n",
       "    </tr>\n",
       "    <tr>\n",
       "      <th>238</th>\n",
       "      <td>핸디/스틱청소기</td>\n",
       "      <td>로보락</td>\n",
       "      <td>H6</td>\n",
       "      <td>436810</td>\n",
       "      <td>90.0</td>\n",
       "      <td>250.0</td>\n",
       "    </tr>\n",
       "  </tbody>\n",
       "</table>\n",
       "</div>"
      ],
      "text/plain": [
       "         카테고리  회사명       제품      가격   사용시간    흡입력\n",
       "137  핸디/스틱청소기  리하스     LH20  299000  120.0  330.0\n",
       "123  핸디/스틱청소기  샤오미  드리미 V12  318990   90.0  270.0\n",
       "226  핸디/스틱청소기  샤오미  드리미 T30  429950   90.0  270.0\n",
       "141  핸디/스틱청소기  샤오미  드리미 V11  242950   90.0  250.0\n",
       "238  핸디/스틱청소기  로보락       H6  436810   90.0  250.0"
      ]
     },
     "execution_count": 93,
     "metadata": {},
     "output_type": "execute_result"
    }
   ],
   "source": [
    "top_list = danawa_data.sort_values([\"사용시간\"], ascending = False)\n",
    "top_list.head()"
   ]
  },
  {
   "cell_type": "code",
   "execution_count": 94,
   "metadata": {},
   "outputs": [
    {
     "data": {
      "text/html": [
       "<div>\n",
       "<style scoped>\n",
       "    .dataframe tbody tr th:only-of-type {\n",
       "        vertical-align: middle;\n",
       "    }\n",
       "\n",
       "    .dataframe tbody tr th {\n",
       "        vertical-align: top;\n",
       "    }\n",
       "\n",
       "    .dataframe thead th {\n",
       "        text-align: right;\n",
       "    }\n",
       "</style>\n",
       "<table border=\"1\" class=\"dataframe\">\n",
       "  <thead>\n",
       "    <tr style=\"text-align: right;\">\n",
       "      <th></th>\n",
       "      <th>카테고리</th>\n",
       "      <th>회사명</th>\n",
       "      <th>제품</th>\n",
       "      <th>가격</th>\n",
       "      <th>사용시간</th>\n",
       "      <th>흡입력</th>\n",
       "    </tr>\n",
       "  </thead>\n",
       "  <tbody>\n",
       "    <tr>\n",
       "      <th>137</th>\n",
       "      <td>핸디/스틱청소기</td>\n",
       "      <td>리하스</td>\n",
       "      <td>LH20</td>\n",
       "      <td>299000</td>\n",
       "      <td>120.0</td>\n",
       "      <td>330.0</td>\n",
       "    </tr>\n",
       "    <tr>\n",
       "      <th>123</th>\n",
       "      <td>핸디/스틱청소기</td>\n",
       "      <td>샤오미</td>\n",
       "      <td>드리미 V12</td>\n",
       "      <td>318990</td>\n",
       "      <td>90.0</td>\n",
       "      <td>270.0</td>\n",
       "    </tr>\n",
       "    <tr>\n",
       "      <th>226</th>\n",
       "      <td>핸디/스틱청소기</td>\n",
       "      <td>샤오미</td>\n",
       "      <td>드리미 T30</td>\n",
       "      <td>429950</td>\n",
       "      <td>90.0</td>\n",
       "      <td>270.0</td>\n",
       "    </tr>\n",
       "    <tr>\n",
       "      <th>141</th>\n",
       "      <td>핸디/스틱청소기</td>\n",
       "      <td>샤오미</td>\n",
       "      <td>드리미 V11</td>\n",
       "      <td>242950</td>\n",
       "      <td>90.0</td>\n",
       "      <td>250.0</td>\n",
       "    </tr>\n",
       "    <tr>\n",
       "      <th>238</th>\n",
       "      <td>핸디/스틱청소기</td>\n",
       "      <td>로보락</td>\n",
       "      <td>H6</td>\n",
       "      <td>436810</td>\n",
       "      <td>90.0</td>\n",
       "      <td>250.0</td>\n",
       "    </tr>\n",
       "  </tbody>\n",
       "</table>\n",
       "</div>"
      ],
      "text/plain": [
       "         카테고리  회사명       제품      가격   사용시간    흡입력\n",
       "137  핸디/스틱청소기  리하스     LH20  299000  120.0  330.0\n",
       "123  핸디/스틱청소기  샤오미  드리미 V12  318990   90.0  270.0\n",
       "226  핸디/스틱청소기  샤오미  드리미 T30  429950   90.0  270.0\n",
       "141  핸디/스틱청소기  샤오미  드리미 V11  242950   90.0  250.0\n",
       "238  핸디/스틱청소기  로보락       H6  436810   90.0  250.0"
      ]
     },
     "execution_count": 94,
     "metadata": {},
     "output_type": "execute_result"
    }
   ],
   "source": [
    "top_list = danawa_data.sort_values([\"사용시간\",\"흡입력\"], ascending = False)\n",
    "top_list.head()"
   ]
  },
  {
   "cell_type": "code",
   "execution_count": 98,
   "metadata": {},
   "outputs": [
    {
     "name": "stdout",
     "output_type": "stream",
     "text": [
      "가격 평균값 :  417756.5704467354\n",
      "흡입력 평균값 :  179.03763440860214\n",
      "사용시간 평균값 :  44.15217391304348\n"
     ]
    }
   ],
   "source": [
    "price_mean_value = danawa_data['가격'].mean()\n",
    "suction_mean_value = danawa_data['흡입력'].mean()\n",
    "use_time_mean_value = danawa_data['사용시간'].mean()\n",
    "print(\"가격 평균값 : \", price_mean_value)\n",
    "print(\"흡입력 평균값 : \", suction_mean_value)\n",
    "print(\"사용시간 평균값 : \", use_time_mean_value)"
   ]
  },
  {
   "cell_type": "code",
   "execution_count": 96,
   "metadata": {
    "scrolled": true
   },
   "outputs": [
    {
     "data": {
      "text/html": [
       "<div>\n",
       "<style scoped>\n",
       "    .dataframe tbody tr th:only-of-type {\n",
       "        vertical-align: middle;\n",
       "    }\n",
       "\n",
       "    .dataframe tbody tr th {\n",
       "        vertical-align: top;\n",
       "    }\n",
       "\n",
       "    .dataframe thead th {\n",
       "        text-align: right;\n",
       "    }\n",
       "</style>\n",
       "<table border=\"1\" class=\"dataframe\">\n",
       "  <thead>\n",
       "    <tr style=\"text-align: right;\">\n",
       "      <th></th>\n",
       "      <th>카테고리</th>\n",
       "      <th>회사명</th>\n",
       "      <th>제품</th>\n",
       "      <th>가격</th>\n",
       "      <th>사용시간</th>\n",
       "      <th>흡입력</th>\n",
       "    </tr>\n",
       "  </thead>\n",
       "  <tbody>\n",
       "    <tr>\n",
       "      <th>1</th>\n",
       "      <td>핸디/스틱청소기</td>\n",
       "      <td>샤오미</td>\n",
       "      <td>드리미 V10</td>\n",
       "      <td>138270</td>\n",
       "      <td>60.0</td>\n",
       "      <td>220.0</td>\n",
       "    </tr>\n",
       "    <tr>\n",
       "      <th>19</th>\n",
       "      <td>핸디/스틱청소기</td>\n",
       "      <td>샤오미</td>\n",
       "      <td>드리미 V9P</td>\n",
       "      <td>136760</td>\n",
       "      <td>60.0</td>\n",
       "      <td>200.0</td>\n",
       "    </tr>\n",
       "    <tr>\n",
       "      <th>20</th>\n",
       "      <td>핸디/스틱청소기</td>\n",
       "      <td>샤오미</td>\n",
       "      <td>드리미 V9</td>\n",
       "      <td>108760</td>\n",
       "      <td>60.0</td>\n",
       "      <td>200.0</td>\n",
       "    </tr>\n",
       "    <tr>\n",
       "      <th>31</th>\n",
       "      <td>핸디/스틱청소기</td>\n",
       "      <td>DIBEA</td>\n",
       "      <td>차이슨 ALLNEW29000</td>\n",
       "      <td>248000</td>\n",
       "      <td>48.0</td>\n",
       "      <td>290.0</td>\n",
       "    </tr>\n",
       "    <tr>\n",
       "      <th>33</th>\n",
       "      <td>핸디/스틱청소기</td>\n",
       "      <td>샤오미</td>\n",
       "      <td>드리미 V10P</td>\n",
       "      <td>236150</td>\n",
       "      <td>60.0</td>\n",
       "      <td>220.0</td>\n",
       "    </tr>\n",
       "    <tr>\n",
       "      <th>54</th>\n",
       "      <td>핸디/스틱청소기</td>\n",
       "      <td>샤오미</td>\n",
       "      <td>SHUNZAO Z11</td>\n",
       "      <td>144380</td>\n",
       "      <td>60.0</td>\n",
       "      <td>260.0</td>\n",
       "    </tr>\n",
       "    <tr>\n",
       "      <th>57</th>\n",
       "      <td>핸디/스틱청소기</td>\n",
       "      <td>원더스리빙</td>\n",
       "      <td>원더스 다이나킹 Z9</td>\n",
       "      <td>299000</td>\n",
       "      <td>65.0</td>\n",
       "      <td>220.0</td>\n",
       "    </tr>\n",
       "    <tr>\n",
       "      <th>59</th>\n",
       "      <td>핸디/스틱청소기</td>\n",
       "      <td>샤오미</td>\n",
       "      <td>SHUNZAO Z11 PRO</td>\n",
       "      <td>199000</td>\n",
       "      <td>60.0</td>\n",
       "      <td>260.0</td>\n",
       "    </tr>\n",
       "    <tr>\n",
       "      <th>77</th>\n",
       "      <td>핸디/스틱청소기</td>\n",
       "      <td>샤오미</td>\n",
       "      <td>드리미 T20</td>\n",
       "      <td>377010</td>\n",
       "      <td>70.0</td>\n",
       "      <td>250.0</td>\n",
       "    </tr>\n",
       "    <tr>\n",
       "      <th>107</th>\n",
       "      <td>핸디/스틱청소기</td>\n",
       "      <td>샤오미</td>\n",
       "      <td>로이드미 제로</td>\n",
       "      <td>216380</td>\n",
       "      <td>60.0</td>\n",
       "      <td>220.0</td>\n",
       "    </tr>\n",
       "    <tr>\n",
       "      <th>123</th>\n",
       "      <td>핸디/스틱청소기</td>\n",
       "      <td>샤오미</td>\n",
       "      <td>드리미 V12</td>\n",
       "      <td>318990</td>\n",
       "      <td>90.0</td>\n",
       "      <td>270.0</td>\n",
       "    </tr>\n",
       "    <tr>\n",
       "      <th>137</th>\n",
       "      <td>핸디/스틱청소기</td>\n",
       "      <td>리하스</td>\n",
       "      <td>LH20</td>\n",
       "      <td>299000</td>\n",
       "      <td>120.0</td>\n",
       "      <td>330.0</td>\n",
       "    </tr>\n",
       "    <tr>\n",
       "      <th>139</th>\n",
       "      <td>핸디/스틱청소기</td>\n",
       "      <td>샤오미</td>\n",
       "      <td>로이드미 Z1</td>\n",
       "      <td>256320</td>\n",
       "      <td>60.0</td>\n",
       "      <td>220.0</td>\n",
       "    </tr>\n",
       "    <tr>\n",
       "      <th>141</th>\n",
       "      <td>핸디/스틱청소기</td>\n",
       "      <td>샤오미</td>\n",
       "      <td>드리미 V11</td>\n",
       "      <td>242950</td>\n",
       "      <td>90.0</td>\n",
       "      <td>250.0</td>\n",
       "    </tr>\n",
       "    <tr>\n",
       "      <th>146</th>\n",
       "      <td>핸디/스틱청소기</td>\n",
       "      <td>DIBEA</td>\n",
       "      <td>TSX-25000A</td>\n",
       "      <td>177040</td>\n",
       "      <td>45.0</td>\n",
       "      <td>250.0</td>\n",
       "    </tr>\n",
       "    <tr>\n",
       "      <th>203</th>\n",
       "      <td>핸디/스틱청소기</td>\n",
       "      <td>샤오미</td>\n",
       "      <td>드리미 V10 ARES</td>\n",
       "      <td>219000</td>\n",
       "      <td>60.0</td>\n",
       "      <td>220.0</td>\n",
       "    </tr>\n",
       "    <tr>\n",
       "      <th>206</th>\n",
       "      <td>핸디/스틱청소기</td>\n",
       "      <td>DIBEA</td>\n",
       "      <td>M24 MAX</td>\n",
       "      <td>169000</td>\n",
       "      <td>50.0</td>\n",
       "      <td>250.0</td>\n",
       "    </tr>\n",
       "    <tr>\n",
       "      <th>212</th>\n",
       "      <td>핸디/스틱청소기</td>\n",
       "      <td>DIBEA</td>\n",
       "      <td>올인원뉴 무선청소기</td>\n",
       "      <td>179000</td>\n",
       "      <td>50.0</td>\n",
       "      <td>200.0</td>\n",
       "    </tr>\n",
       "    <tr>\n",
       "      <th>220</th>\n",
       "      <td>핸디/스틱청소기</td>\n",
       "      <td>캐치웰</td>\n",
       "      <td>코드엑스</td>\n",
       "      <td>184000</td>\n",
       "      <td>60.0</td>\n",
       "      <td>220.0</td>\n",
       "    </tr>\n",
       "    <tr>\n",
       "      <th>221</th>\n",
       "      <td>핸디/스틱청소기</td>\n",
       "      <td>샤오미</td>\n",
       "      <td>TROUVER TECH SOLO10</td>\n",
       "      <td>98890</td>\n",
       "      <td>48.0</td>\n",
       "      <td>180.0</td>\n",
       "    </tr>\n",
       "    <tr>\n",
       "      <th>229</th>\n",
       "      <td>핸디/스틱청소기</td>\n",
       "      <td>DIBEA</td>\n",
       "      <td>F20 맥스</td>\n",
       "      <td>177110</td>\n",
       "      <td>50.0</td>\n",
       "      <td>250.0</td>\n",
       "    </tr>\n",
       "    <tr>\n",
       "      <th>231</th>\n",
       "      <td>핸디/스틱청소기</td>\n",
       "      <td>퍼피유</td>\n",
       "      <td>T12R</td>\n",
       "      <td>279210</td>\n",
       "      <td>60.0</td>\n",
       "      <td>290.0</td>\n",
       "    </tr>\n",
       "    <tr>\n",
       "      <th>239</th>\n",
       "      <td>핸디/스틱청소기</td>\n",
       "      <td>델로라</td>\n",
       "      <td>V11 파워 300W</td>\n",
       "      <td>128250</td>\n",
       "      <td>70.0</td>\n",
       "      <td>220.0</td>\n",
       "    </tr>\n",
       "    <tr>\n",
       "      <th>244</th>\n",
       "      <td>핸디/스틱청소기</td>\n",
       "      <td>DIBEA</td>\n",
       "      <td>X20</td>\n",
       "      <td>219880</td>\n",
       "      <td>50.0</td>\n",
       "      <td>200.0</td>\n",
       "    </tr>\n",
       "    <tr>\n",
       "      <th>263</th>\n",
       "      <td>핸디/스틱청소기</td>\n",
       "      <td>DIBEA</td>\n",
       "      <td>X30</td>\n",
       "      <td>188000</td>\n",
       "      <td>50.0</td>\n",
       "      <td>250.0</td>\n",
       "    </tr>\n",
       "    <tr>\n",
       "      <th>288</th>\n",
       "      <td>핸디/스틱청소기</td>\n",
       "      <td>샤오미</td>\n",
       "      <td>VIOMI A9 V-HWVC12A</td>\n",
       "      <td>267870</td>\n",
       "      <td>60.0</td>\n",
       "      <td>230.0</td>\n",
       "    </tr>\n",
       "  </tbody>\n",
       "</table>\n",
       "</div>"
      ],
      "text/plain": [
       "         카테고리    회사명                   제품      가격   사용시간    흡입력\n",
       "1    핸디/스틱청소기    샤오미              드리미 V10  138270   60.0  220.0\n",
       "19   핸디/스틱청소기    샤오미              드리미 V9P  136760   60.0  200.0\n",
       "20   핸디/스틱청소기    샤오미               드리미 V9  108760   60.0  200.0\n",
       "31   핸디/스틱청소기  DIBEA      차이슨 ALLNEW29000  248000   48.0  290.0\n",
       "33   핸디/스틱청소기    샤오미             드리미 V10P  236150   60.0  220.0\n",
       "54   핸디/스틱청소기    샤오미          SHUNZAO Z11  144380   60.0  260.0\n",
       "57   핸디/스틱청소기  원더스리빙          원더스 다이나킹 Z9  299000   65.0  220.0\n",
       "59   핸디/스틱청소기    샤오미      SHUNZAO Z11 PRO  199000   60.0  260.0\n",
       "77   핸디/스틱청소기    샤오미              드리미 T20  377010   70.0  250.0\n",
       "107  핸디/스틱청소기    샤오미              로이드미 제로  216380   60.0  220.0\n",
       "123  핸디/스틱청소기    샤오미              드리미 V12  318990   90.0  270.0\n",
       "137  핸디/스틱청소기    리하스                 LH20  299000  120.0  330.0\n",
       "139  핸디/스틱청소기    샤오미              로이드미 Z1  256320   60.0  220.0\n",
       "141  핸디/스틱청소기    샤오미              드리미 V11  242950   90.0  250.0\n",
       "146  핸디/스틱청소기  DIBEA           TSX-25000A  177040   45.0  250.0\n",
       "203  핸디/스틱청소기    샤오미         드리미 V10 ARES  219000   60.0  220.0\n",
       "206  핸디/스틱청소기  DIBEA              M24 MAX  169000   50.0  250.0\n",
       "212  핸디/스틱청소기  DIBEA           올인원뉴 무선청소기  179000   50.0  200.0\n",
       "220  핸디/스틱청소기    캐치웰                 코드엑스  184000   60.0  220.0\n",
       "221  핸디/스틱청소기    샤오미  TROUVER TECH SOLO10   98890   48.0  180.0\n",
       "229  핸디/스틱청소기  DIBEA               F20 맥스  177110   50.0  250.0\n",
       "231  핸디/스틱청소기    퍼피유                 T12R  279210   60.0  290.0\n",
       "239  핸디/스틱청소기    델로라          V11 파워 300W  128250   70.0  220.0\n",
       "244  핸디/스틱청소기  DIBEA                  X20  219880   50.0  200.0\n",
       "263  핸디/스틱청소기  DIBEA                  X30  188000   50.0  250.0\n",
       "288  핸디/스틱청소기    샤오미   VIOMI A9 V-HWVC12A  267870   60.0  230.0"
      ]
     },
     "execution_count": 96,
     "metadata": {},
     "output_type": "execute_result"
    }
   ],
   "source": [
    "condition_data = danawa_data [\n",
    "    (danawa_data['가격'] <= price_mean_value) & \n",
    "    (danawa_data['흡입력'] >= suction_mean_value) & \n",
    "    (danawa_data['사용시간'] >= use_time_mean_value)]\n",
    "condition_data"
   ]
  },
  {
   "cell_type": "code",
   "execution_count": 103,
   "metadata": {},
   "outputs": [],
   "source": [
    "from matplotlib import font_manager, rc\n",
    "import matplotlib.pyplot as plt\n",
    "import seaborn as sns\n",
    "import platform \n",
    "font_path = ''\n",
    "if platform.system() == 'Windows': \n",
    "    font_path = 'c:/Windows/Fonts/malgun.ttf'\n",
    "    font_name = font_manager.FontProperties(fname = font_path).get_name()\n",
    "    rc('font', family = font_name)\n",
    "elif platform.system() == 'Darwin':\n",
    "    font_path = '/Users/$USER/Library/Fonts/AppleGothic.ttf'\n",
    "    rc('font', family = 'AppleGothic')\n",
    "else: \n",
    "    print('Check your OS system')\n",
    "    \n",
    "%matplotlib inline"
   ]
  },
  {
   "cell_type": "code",
   "execution_count": 107,
   "metadata": {},
   "outputs": [
    {
     "data": {
      "text/plain": [
       "183"
      ]
     },
     "execution_count": 107,
     "metadata": {},
     "output_type": "execute_result"
    }
   ],
   "source": [
    "chart_data = danawa_data.dropna(axis = 0)\n",
    "len(chart_data)"
   ]
  },
  {
   "cell_type": "code",
   "execution_count": 110,
   "metadata": {},
   "outputs": [],
   "source": [
    "suction_max_value = chart_data['흡입력'].max()\n",
    "suction_min_value = chart_data['흡입력'].min()\n",
    "suction_mean_value = chart_data['흡입력'].mean()\n",
    "\n",
    "use_time_min_value = chart_data['사용시간'].min()\n",
    "use_time_max_value = chart_data['사용시간'].max()\n",
    "use_time_mean_value = chart_data['사용시간'].mean()"
   ]
  },
  {
   "cell_type": "code",
   "execution_count": 112,
   "metadata": {},
   "outputs": [
    {
     "data": {
      "image/png": "[encoded data removed]",
      "text/plain": [
       "<Figure size 1440x720 with 1 Axes>"
      ]
     },
     "metadata": {
      "needs_background": "light"
     },
     "output_type": "display_data"
    }
   ],
   "source": [
    "plt.figure(figsize=(20, 10))\n",
    "plt.title(\"무선 핸디/스틱청소기 차트\")\n",
    "sns.scatterplot(x = '흡입력', y = '사용시간', size = '가격', hue = chart_data['회사명'], \n",
    "             data = chart_data, sizes = (10, 1000), legend = False)\n",
    "plt.plot([0, suction_max_value], \n",
    "          [use_time_mean_value, use_time_mean_value], \n",
    "          'r--', \n",
    "          lw = 1 )\n",
    "plt.plot([suction_mean_value, suction_mean_value], \n",
    "          [0, use_time_max_value], \n",
    "          'r--', \n",
    "          lw = 1 )\n",
    "plt.show()"
   ]
  },
  {
   "cell_type": "code",
   "execution_count": 114,
   "metadata": {},
   "outputs": [
    {
     "data": {
      "text/plain": [
       "20"
      ]
     },
     "execution_count": 114,
     "metadata": {},
     "output_type": "execute_result"
    }
   ],
   "source": [
    "chart_data_selected = chart_data[:20]\n",
    "len(chart_data_selected)"
   ]
  },
  {
   "cell_type": "code",
   "execution_count": 115,
   "metadata": {
    "scrolled": true
   },
   "outputs": [
    {
     "data": {
      "image/png": "[encoded data removed]",
      "text/plain": [
       "<Figure size 1440x720 with 1 Axes>"
      ]
     },
     "metadata": {
      "needs_background": "light"
     },
     "output_type": "display_data"
    }
   ],
   "source": [
    "suction_max_value = chart_data_selected['흡입력'].max()\n",
    "suction_mean_value = chart_data_selected['흡입력'].mean()\n",
    "use_time_max_value = chart_data_selected['사용시간'].max()\n",
    "use_time_mean_value = chart_data_selected['사용시간'].mean()\n",
    "plt.figure(figsize=(20, 10))\n",
    "plt.title(\"무선 핸디/스틱청소기 TOP 20\")\n",
    "sns.scatterplot(x = '흡입력', \n",
    "                  y = '사용시간', \n",
    "                  size = '가격', \n",
    "                  hue = chart_data_selected['회사명'], \n",
    "                  data = chart_data_selected, sizes = (100, 2000),\n",
    "                  legend = False)\n",
    "plt.plot([60, suction_max_value], \n",
    "          [use_time_mean_value, use_time_mean_value], \n",
    "          'r--', \n",
    "          lw = 1 )\n",
    "plt.plot([suction_mean_value, suction_mean_value], \n",
    "          [20, use_time_max_value], \n",
    "          'r--', \n",
    "          lw = 1 )\n",
    "for index, row in chart_data_selected.iterrows():\n",
    "    x = row['흡입력']\n",
    "    y = row['사용시간']\n",
    "    s = row['제품'].split(' ')[0]\n",
    "    plt.text(x, y, s, size=20)\n",
    "plt.show()"
   ]
  },
  {
   "cell_type": "code",
   "execution_count": null,
   "metadata": {},
   "outputs": [],
   "source": []
  }
 ],
 "metadata": {
  "kernelspec": {
   "display_name": "Python 3",
   "language": "python",
   "name": "python3"
  },
  "language_info": {
   "codemirror_mode": {
    "name": "ipython",
    "version": 3
   },
   "file_extension": ".py",
   "mimetype": "text/x-python",
   "name": "python",
   "nbconvert_exporter": "python",
   "pygments_lexer": "ipython3",
   "version": "3.8.5"
  }
 },
 "nbformat": 4,
 "nbformat_minor": 4
}
